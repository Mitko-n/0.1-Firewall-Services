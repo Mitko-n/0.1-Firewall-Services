{
 "cells": [
  {
   "cell_type": "code",
   "execution_count": null,
   "metadata": {},
   "outputs": [],
   "source": [
    "from firewall_api import *\n",
    "\n",
    "firewall = Firewall(username=\"admin\", password=\"Sophos1985\", hostname=\"172.16.17.30\")"
   ]
  },
  {
   "cell_type": "code",
   "execution_count": null,
   "metadata": {},
   "outputs": [],
   "source": [
    "firewall.read(\"Login\")"
   ]
  },
  {
   "cell_type": "code",
   "execution_count": null,
   "metadata": {},
   "outputs": [],
   "source": [
    "response = firewall.read(\"FirewallRule\", \"DNAT\", LIKE, \"Name\")\n",
    "\n",
    "for item in response[\"data\"]:\n",
    "    print(item)"
   ]
  },
  {
   "cell_type": "code",
   "execution_count": null,
   "metadata": {},
   "outputs": [],
   "source": [
    "response = firewall.read(\"FirewallRule\", \"DNAT\")\n",
    "\n",
    "for item in response[\"data\"]:\n",
    "    print(item)"
   ]
  },
  {
   "cell_type": "code",
   "execution_count": null,
   "metadata": {},
   "outputs": [],
   "source": [
    "response = firewall.read(\"IPHost\", \"Internet\", LIKE, \"Name\")\n",
    "\n",
    "for item in response[\"data\"]:\n",
    "    print(item)"
   ]
  },
  {
   "cell_type": "code",
   "execution_count": null,
   "metadata": {},
   "outputs": [],
   "source": [
    "response = firewall.read(\"IPHost\", \"172.16.17.2\", LIKE, \"IPAddress\")\n",
    "for item in response[\"data\"]:\n",
    "    print(item)"
   ]
  },
  {
   "cell_type": "code",
   "execution_count": null,
   "metadata": {},
   "outputs": [],
   "source": [
    "response = firewall.read(\"LocalServiceACL\")\n",
    "\n",
    "for item in response[\"data\"]:\n",
    "    print(item)"
   ]
  },
  {
   "cell_type": "code",
   "execution_count": null,
   "metadata": {},
   "outputs": [],
   "source": [
    "response = firewall.read(\"LocalServiceACL\", \"WAN\", LIKE, \"RuleName\")\n",
    "\n",
    "for item in response[\"data\"]:\n",
    "    print(item)"
   ]
  },
  {
   "cell_type": "code",
   "execution_count": null,
   "metadata": {},
   "outputs": [],
   "source": [
    "#\n",
    "# IPHost\n",
    "#\n",
    "\n",
    "entity_type = \"IPHost\"\n",
    "entity_name = \"TEST\"\n",
    "entity_data = {\n",
    "    \"Name\": entity_name,\n",
    "    # \"IPFamily\": \"IPv4\",   #IPv4 is Default settings\n",
    "    \"HostType\": \"IP\",\n",
    "    \"IPAddress\": \"172.16.17.100\",\n",
    "}\n",
    "print(\"CREATE :: \", firewall.create(entity_type, entity_data))  # Create IPHost entity_type using entity_data"
   ]
  },
  {
   "cell_type": "code",
   "execution_count": null,
   "metadata": {},
   "outputs": [],
   "source": [
    "print(\"READ   :: \", firewall.read(entity_type, entity_name))\n",
    "print(\"UPDATE :: \", firewall.update(entity_type, {\"IPAddress\": \"172.16.17.222\"}, entity_name))  # Update IPHost entity_type using entity_data\n",
    "print(\"READ   :: \", firewall.read(entity_type, entity_name))\n",
    "print(\"DELETE :: \", firewall.delete(entity_type, entity_name))  # IPHosts with the entity_name \"TEST\" will be deleted.\n",
    "print(\"READ   :: \", firewall.read(entity_type, entity_name))  # No IPHosts with the entity_name \"TEST\"\n",
    "\n",
    "response = firewall.read(\"IPHost\")  # READ all IPHost\n",
    "print()\n",
    "print(\"Code:\", response[\"status\"], \"Text:\", response[\"message\"])\n",
    "for index, item in enumerate(response[\"data\"], start=1):\n",
    "    print(f\"{index:03}: {item}\")"
   ]
  },
  {
   "cell_type": "code",
   "execution_count": null,
   "metadata": {},
   "outputs": [],
   "source": [
    "#\n",
    "# IPHost\n",
    "#\n",
    "\n",
    "entity_type = \"IPHost\"\n",
    "entity_name = \"TEST\"\n",
    "entity_data = {\n",
    "    \"Name\": entity_name,\n",
    "    # \"IPFamily\": \"IPv4\",   #IPv4 is Default settings\n",
    "    \"HostType\": \"IP\",\n",
    "    \"IPAddress\": \"172.16.17.100\",\n",
    "}\n",
    "print(\"CREATE :: \", firewall.create(entity_type, entity_data))  # Create IPHost entity_type using entity_data"
   ]
  },
  {
   "cell_type": "code",
   "execution_count": null,
   "metadata": {},
   "outputs": [],
   "source": [
    "firewall.update(\"IPHost\", {\"Name\": \"TEST\", \"Description\": \"Name in Data\"})\n",
    "print(\"READ   :: \", firewall.read(entity_type, entity_name, EQ))"
   ]
  },
  {
   "cell_type": "code",
   "execution_count": null,
   "metadata": {},
   "outputs": [],
   "source": [
    "firewall.update(\"IPHost\", {\"Description\": \"Explicitly mention Name\"}, entity_name)\n",
    "print(\"READ   :: \", firewall.read(entity_type, entity_name, EQ))"
   ]
  },
  {
   "cell_type": "code",
   "execution_count": null,
   "metadata": {},
   "outputs": [],
   "source": [
    "print(\"CREATE :: \", firewall.create(\"IPHost\", {\"Name\": \"TEST 1\", \"IPFamily\": \"IPv4\", \"HostType\": \"IP\", \"IPAddress\": \"172.16.17.100\"}))\n",
    "print(\"CREATE :: \", firewall.create(\"IPHost\", {\"Name\": \"TEST 2\", \"IPFamily\": \"IPv4\", \"HostType\": \"IP\", \"IPAddress\": \"172.16.17.100\"}))\n",
    "print(\"CREATE :: \", firewall.create(\"IPHost\", {\"Name\": \"TEST 3\", \"IPFamily\": \"IPv4\", \"HostType\": \"IP\", \"IPAddress\": \"172.16.17.100\"}))\n",
    "print(\"CREATE :: \", firewall.create(\"IPHost\", {\"Name\": \"TEST 4\", \"IPFamily\": \"IPv4\", \"HostType\": \"IP\", \"IPAddress\": \"172.16.17.100\"}))\n",
    "\n",
    "print(\"\\nREAD :: \")\n",
    "response = firewall.read(\"IPHost\", \"TEST\", LIKE)\n",
    "print(\"Code:\", response[\"status\"], \"Text:\", response[\"message\"])\n",
    "for index, item in enumerate(response[\"data\"], start=1):\n",
    "    print(f\"{index:03}: {item}\")\n"
   ]
  },
  {
   "cell_type": "code",
   "execution_count": null,
   "metadata": {},
   "outputs": [],
   "source": [
    "print(\"\\nUPDATE :: \", firewall.update(\"IPHost\", {\"Name\": \"TEST 1\", \"IPAddress\": \"172.16.17.101\"}))\n",
    "print(\"UPDATE :: \", firewall.update(\"IPHost\", {\"IPAddress\": \"172.16.17.112\"}, \"TEST 2\"))\n",
    "print(\"UPDATE :: \", firewall.update(\"IPHost\", {\"Name\": \"TEST 3\", \"IPFamily\": \"IPv4\", \"HostType\": \"IP\", \"IPAddress\": \"172.16.17.103\"}))\n",
    "print(\"UPDATE :: \", firewall.update(\"IPHost\", {\"Name\": \"TEST 4\", \"IPFamily\": \"IPv4\", \"HostType\": \"IP\", \"IPAddress\": \"172.16.17.104\"}))\n",
    "\n",
    "print(\"\\nREAD :: \")\n",
    "response = firewall.read(\"IPHost\", \"TEST\", LIKE)\n",
    "print(\"Code:\", response[\"status\"], \"Text:\", response[\"message\"])\n",
    "for index, item in enumerate(response[\"data\"], start=1):\n",
    "    print(f\"{index:03}: {item}\")"
   ]
  },
  {
   "cell_type": "code",
   "execution_count": null,
   "metadata": {},
   "outputs": [],
   "source": [
    "\n",
    "print(\"\\nDELETE :: \", firewall.delete(\"IPHost\", \"TEST 1\"))\n",
    "print(\"DELETE :: \", firewall.delete(\"IPHost\", \"TEST 2\"))\n",
    "\n",
    "print(\"\\nREAD :: \")\n",
    "response = firewall.read(\"IPHost\", \"TEST\", LIKE)\n",
    "print(\"Code:\", response[\"status\"], \"Text:\", response[\"message\"])\n",
    "for index, item in enumerate(response[\"data\"], start=1):\n",
    "    print(f\"{index:03}: {item}\")\n"
   ]
  },
  {
   "cell_type": "code",
   "execution_count": null,
   "metadata": {},
   "outputs": [],
   "source": [
    "\n",
    "print(\"\\nDELETE :: \", firewall.delete(\"IPHost\", \"TEST\", LIKE))\n",
    "\n",
    "print(\"\\nREAD :: \")\n",
    "response = firewall.read(\"IPHost\", \"TEST\", LIKE)\n",
    "print(\"Code:\", response[\"status\"], \"Text:\", response[\"message\"])\n",
    "for index, item in enumerate(response[\"data\"], start=1):\n",
    "    print(f\"{index:03}: {item}\")\n",
    "\n"
   ]
  },
  {
   "cell_type": "code",
   "execution_count": null,
   "metadata": {},
   "outputs": [],
   "source": [
    "\n",
    "print(\"\\nREAD :: FirewallRule\")\n",
    "response = firewall.read(\"FirewallRule\")\n",
    "print(\"Code:\", response[\"status\"], \"Text:\", response[\"message\"])\n",
    "for index, item in enumerate(response[\"data\"], start=1):\n",
    "    print(f\"{index:03}: {item}\")"
   ]
  },
  {
   "cell_type": "code",
   "execution_count": null,
   "metadata": {},
   "outputs": [],
   "source": [
    "response = firewall.read(\"IPHost\", \"172.16.17.10\", LIKE, \"IPAddress\")\n",
    "for item in response[\"data\"]:\n",
    "    print(item)"
   ]
  },
  {
   "cell_type": "code",
   "execution_count": null,
   "metadata": {},
   "outputs": [],
   "source": [
    "response = firewall.read(\"User\")\n",
    "for item in response[\"data\"]:\n",
    "    print(item)"
   ]
  },
  {
   "cell_type": "code",
   "execution_count": null,
   "metadata": {},
   "outputs": [],
   "source": [
    "# (Which entity, What, How (EQ,NOT,LIKE), Where (Search Field))\n",
    "response = firewall.read(\"User\", \"User\", LIKE, \"Name\")\n",
    "for item in response[\"data\"]:\n",
    "    print(item)"
   ]
  },
  {
   "cell_type": "code",
   "execution_count": null,
   "metadata": {},
   "outputs": [],
   "source": [
    "response = firewall.read(\"User\", \"username\", LIKE, \"Username\")\n",
    "for item in response[\"data\"]:\n",
    "    print(item)"
   ]
  },
  {
   "cell_type": "code",
   "execution_count": null,
   "metadata": {},
   "outputs": [],
   "source": [
    "response = firewall.read(\"User\", \"api\", LIKE, \"Username\")\n",
    "for item in response[\"data\"]:\n",
    "    print(item)"
   ]
  },
  {
   "cell_type": "code",
   "execution_count": null,
   "metadata": {},
   "outputs": [],
   "source": [
    "firewall.delete(\"IPHost\", \"TEST\",LIKE)\n"
   ]
  },
  {
   "cell_type": "code",
   "execution_count": null,
   "metadata": {},
   "outputs": [],
   "source": [
    "response = firewall.read(\"IPHost\", \"TEST\")\n",
    "for item in response[\"data\"]:\n",
    "    print(item)"
   ]
  }
 ],
 "metadata": {
  "kernelspec": {
   "display_name": "Python 3",
   "language": "python",
   "name": "python3"
  },
  "language_info": {
   "codemirror_mode": {
    "name": "ipython",
    "version": 3
   },
   "file_extension": ".py",
   "mimetype": "text/x-python",
   "name": "python",
   "nbconvert_exporter": "python",
   "pygments_lexer": "ipython3",
   "version": "3.12.6"
  }
 },
 "nbformat": 4,
 "nbformat_minor": 2
}
