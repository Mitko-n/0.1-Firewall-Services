{
 "cells": [
  {
   "cell_type": "code",
   "execution_count": 1,
   "metadata": {},
   "outputs": [],
   "source": [
    "import sys\n",
    "sys.path.insert(0, 'C:/Users/Mitko.Nikolov/OneDrive - Integrity360/Documents/Code/0.1 Firewall Services')\n",
    "\n",
    "from firewall_api import Firewall, LIKE, EQ, NOT\n",
    "import json\n",
    "\n",
    "# Firewall Credentials\n",
    "# JSON File\n",
    "# {\n",
    "#     \"firewall_ip\": \"<FIREWALL_IP_ADDRESS>\",\n",
    "#     \"username\": \"<USER_NAME>\",\n",
    "#     \"port\" : \"<FIREWALL_PORT>\"\n",
    "#     \"password\": \"<PASSWORD\",\n",
    "#     \"password_encrypted\": <true|false>\n",
    "# }\n",
    "\n",
    "firewall_info = json.load(open(\"../Credentials/firewall_access.json\"))\n",
    "username = firewall_info[\"username\"]\n",
    "password = firewall_info[\"password\"]\n",
    "firewall_ip = firewall_info[\"firewall_ip\"]\n",
    "port = firewall_info[\"port\"]\n",
    "password_encrypted = firewall_info[\"password_encrypted\"]\n",
    "\n",
    "firewall = Firewall(username, password, firewall_ip, port, password_encrypted,)"
   ]
  },
  {
   "cell_type": "code",
   "execution_count": 2,
   "metadata": {},
   "outputs": [
    {
     "name": "stdout",
     "output_type": "stream",
     "text": [
      "Code: 216 Text: Operation Successful.\n",
      "01: {'Name': 'Internet IPv4 (1-9)', 'Description': None, 'IPFamily': 'IPv4', 'HostType': 'IPRange', 'HostGroupList': {'HostGroup': 'Internet IPv4 group'}, 'StartIPAddress': '1.0.0.0', 'EndIPAddress': '9.255.255.255'}\n",
      "02: {'Name': 'Internet IPv4 (11-126)', 'Description': None, 'IPFamily': 'IPv4', 'HostType': 'IPRange', 'HostGroupList': {'HostGroup': 'Internet IPv4 group'}, 'StartIPAddress': '11.0.0.0', 'EndIPAddress': '126.255.255.255'}\n",
      "03: {'Name': 'Internet IPv4 (169-172)', 'Description': None, 'IPFamily': 'IPv4', 'HostType': 'IPRange', 'HostGroupList': {'HostGroup': 'Internet IPv4 group'}, 'StartIPAddress': '169.255.0.0', 'EndIPAddress': '172.15.255.255'}\n",
      "04: {'Name': 'Internet IPv4 (172-191)', 'Description': None, 'IPFamily': 'IPv4', 'HostType': 'IPRange', 'HostGroupList': {'HostGroup': 'Internet IPv4 group'}, 'StartIPAddress': '172.32.0.0', 'EndIPAddress': '191.0.1.255'}\n",
      "05: {'Name': 'Internet IPv4 (191-191.1)', 'Description': None, 'IPFamily': 'IPv4', 'HostType': 'IPRange', 'HostGroupList': {'HostGroup': 'Internet IPv4 group'}, 'StartIPAddress': '191.1.0.0', 'EndIPAddress': '191.255.255.255'}\n",
      "06: {'Name': 'Internet IPv4 (192.169-198.17)', 'Description': None, 'IPFamily': 'IPv4', 'HostType': 'IPRange', 'HostGroupList': {'HostGroup': 'Internet IPv4 group'}, 'StartIPAddress': '192.169.0.0', 'EndIPAddress': '198.17.255.255'}\n",
      "07: {'Name': 'Internet IPv4 (198.20-198.51)', 'Description': None, 'IPFamily': 'IPv4', 'HostType': 'IPRange', 'HostGroupList': {'HostGroup': 'Internet IPv4 group'}, 'StartIPAddress': '198.20.0.0', 'EndIPAddress': '198.51.99.255'}\n",
      "08: {'Name': 'Internet IPv4 (198.51-203.0)', 'Description': None, 'IPFamily': 'IPv4', 'HostType': 'IPRange', 'HostGroupList': {'HostGroup': 'Internet IPv4 group'}, 'StartIPAddress': '198.51.101.0', 'EndIPAddress': '203.0.112.255'}\n",
      "09: {'Name': 'Internet IPv4 (203.0-223)', 'Description': None, 'IPFamily': 'IPv4', 'HostType': 'IPRange', 'HostGroupList': {'HostGroup': 'Internet IPv4 group'}, 'StartIPAddress': '203.0.114.1', 'EndIPAddress': '223.255.255.255'}\n",
      "10: {'Name': 'Internet IPv4 (192.88-192.167)', 'Description': None, 'IPFamily': 'IPv4', 'HostType': 'IPRange', 'HostGroupList': {'HostGroup': 'Internet IPv4 group'}, 'StartIPAddress': '192.88.100.0', 'EndIPAddress': '192.167.255.255'}\n",
      "11: {'Name': 'Internet IPv4 (192-192.88)', 'Description': None, 'IPFamily': 'IPv4', 'HostType': 'IPRange', 'HostGroupList': {'HostGroup': 'Internet IPv4 group'}, 'StartIPAddress': '192.0.3.0', 'EndIPAddress': '192.88.98.255'}\n",
      "12: {'Name': 'Internet IPv4 (128-169)', 'Description': None, 'IPFamily': 'IPv4', 'HostType': 'IPRange', 'HostGroupList': {'HostGroup': 'Internet IPv4 group'}, 'StartIPAddress': '128.0.0.0', 'EndIPAddress': '169.253.255.255'}\n",
      "13: {'Name': 'Internet IPv4 (192-192.0)', 'Description': None, 'IPFamily': 'IPv4', 'HostType': 'IPRange', 'HostGroupList': {'HostGroup': 'Internet IPv4 group'}, 'StartIPAddress': '192.0.1.0', 'EndIPAddress': '192.0.1.255'}\n"
     ]
    }
   ],
   "source": [
    "firewall = Firewall(username, password, firewall_ip, port,certificate_verify=False, password_encrypted=True)\n",
    "\n",
    "entity = \"IPHost\"\n",
    "\n",
    "response = firewall.read(entity, \"Internet\", LIKE)\n",
    "\n",
    "print(\"Code:\", response[\"status\"], \"Text:\", response[\"message\"])\n",
    "\n",
    "for index, item in enumerate(response[\"data\"], start=1):\n",
    "    print(f\"{index:002}: {item}\")"
   ]
  },
  {
   "cell_type": "code",
   "execution_count": null,
   "metadata": {},
   "outputs": [],
   "source": [
    "for item in open(\"Firewall Entities.csv\", \"r\"):\n",
    "    print(\"\\n\\n\", item, end=\"\")\n",
    "    response = firewall.read(item.strip())\n",
    "    print(\"Code:\", response[\"status\"], \"Text:\", response[\"message\"])\n",
    "\n",
    "    for index, item in enumerate(response[\"data\"], start=1):\n",
    "        print(f\"{index:02}: {item}\")"
   ]
  },
  {
   "cell_type": "code",
   "execution_count": null,
   "metadata": {},
   "outputs": [],
   "source": [
    "firewall = Firewall(username, password, firewall_ip, port, password_encrypted)\n",
    "\n",
    "entity = \"IPHostGroup\"\n",
    "\n",
    "response = firewall.read(entity)\n",
    "\n",
    "print(\"Code:\", response[\"code\"], \"Text:\", response[\"text\"])\n",
    "\n",
    "for index, item in enumerate(response[\"data\"], start=1):\n",
    "    print(f\"{index:002}: {item}\")"
   ]
  },
  {
   "cell_type": "code",
   "execution_count": null,
   "metadata": {},
   "outputs": [],
   "source": [
    "test = {\n",
    "    \"ActiveDirectory\": {\n",
    "        \"ServerName\": \"AD\",\n",
    "        \"ServerAddress\": \"192.168.30.50\",\n",
    "        \"Port\": \"636\",\n",
    "        \"NetBIOSDomain\": \"LAB\",\n",
    "        \"ADSUsername\": \"mitko\",\n",
    "        \"Password\": {\n",
    "            \"@hashform\": \"mode1\",\n",
    "            \"#text\": \"$sfos$7$0$ItJ_pd5UQBUHFxjiC7mX1Vr8zZvda9Qael7H6J7ATaSwyGtwGZc4fgzqtpdzZgp8D3bPkK-OVVOSU-Smk2Ja0A~~8xtT69rcIzCgZr2eI8ZgR6VUO7tSBy1qTZL7Uk0_Uqk~\",\n",
    "        },\n",
    "        \"ConnectionSecurity\": \"SSL\",\n",
    "        \"ValidCertReq\": \"Disable\",\n",
    "        \"DisplayNameAttribute\": None,\n",
    "        \"EmailAddressAttribute\": \"mail\",\n",
    "        \"DomainName\": \"lab.local\",\n",
    "        \"SearchQueries\": {\"Query\": \"dc=lab,dc=local\"},\n",
    "    },\n",
    "    \"LDAPServer\": {\"@transactionid\": \"\", \"Status\": \"No. of records Zero.\"},\n",
    "    \"RADIUSServer\": {\"@transactionid\": \"\", \"Status\": \"No. of records Zero.\"},\n",
    "    \"TACACSServer\": {\"@transactionid\": \"\", \"Status\": \"No. of records Zero.\"},\n",
    "    \"EDirectory\": {\"@transactionid\": \"\", \"Status\": \"No. of records Zero.\"},\n",
    "}\n",
    "\n",
    "\n",
    "entity = \"AuthenticationServer\"\n",
    "\n",
    "response = firewall.read(entity)\n",
    "\n",
    "print(\"Code:\", response[\"status\"], \"Text:\", response[\"message\"])\n",
    "\n",
    "for index, item in enumerate(response[\"data\"], start=1):\n",
    "    print(f\"{index:002}: {item}\")"
   ]
  },
  {
   "cell_type": "code",
   "execution_count": null,
   "metadata": {},
   "outputs": [],
   "source": [
    "entity = \"PatternDownload\"\n",
    "\n",
    "response = firewall.read(entity)\n",
    "\n",
    "print(\"Code:\", response[\"status\"], \"Text:\", response[\"message\"])\n",
    "\n",
    "print(json.dumps(response[\"data\"], indent=4))"
   ]
  },
  {
   "cell_type": "code",
   "execution_count": null,
   "metadata": {},
   "outputs": [],
   "source": [
    "# CREATE ENTITY with entity_type \"IPHost\" and entity_data for \"HostType\" Network\n",
    "\n",
    "entity_type = \"IPHost\"\n",
    "entity_data = {\n",
    "    \"Name\": \"192.168.96.0/24\",\n",
    "    \"IPFamily\": \"IPv4\",\n",
    "    \"HostType\": \"Network\",\n",
    "    \"IPAddress\": \"192.168.96.0\",\n",
    "    \"Subnet\": \"255.255.255.0\",\n",
    "}\n",
    "\n",
    "firewall.create(entity_type, entity_data)"
   ]
  },
  {
   "cell_type": "code",
   "execution_count": null,
   "metadata": {},
   "outputs": [],
   "source": [
    "# READ settings for ENTITY with entity_type\n",
    "\n",
    "entity_type = \"LocalServiceACL\"\n",
    "\n",
    "response = firewall.read(entity_type)\n",
    "print(\"Code:\", response[\"status\"], \"Text:\", response[\"message\"])\n",
    "\n",
    "# List/Dump single response\n",
    "print(json.dumps(response[\"data\"], indent=4))\n",
    "\n",
    "# List/Dump diction of responses\n",
    "for index, item in enumerate(response[\"data\"], start=1):\n",
    "    print(f\"{index:002}: {item}\")"
   ]
  },
  {
   "cell_type": "code",
   "execution_count": null,
   "metadata": {},
   "outputs": [],
   "source": [
    "# CREAT/UPDATE ENTITY with entity_type from entity_data\n",
    "\n",
    "entity_type = \"LocalServiceACL\"\n",
    "entity_data = {\n",
    "    \"RuleName\": \"Admin Access\",\n",
    "    \"Description\": \"This was applied through the API by the administrator.\",\n",
    "    \"Position\": \"Top\",\n",
    "    \"IPFamily\": \"IPv4\",\n",
    "    \"SourceZone\": \"WAN\",\n",
    "    \"Hosts\": {\"Host\": [\"192.168.30.0/24\", \"192.168.10.0/24\", \"37.200.116.65\", \"192.168.103.0/24\", \"192.168.96.0/24\"]},\n",
    "    # \"Services\": {\"Service\": [\"HTTPS\", \"SSH\", \"8\", \"9\", \"10\", \"38\", \"39\", \"40\", \"40\", \"40\"]},\n",
    "    \"Services\": {\n",
    "        \"Service\": [\"HTTPS\", \"SSH\", \"8\", \"9\", \"10\", \"38\", \"39\"]\n",
    "    },  # 8 - DNS, 9 - Ping/Ping6, 10 - SSL VPN, 38 - User Portal, 39 - Dynamic Routing, 40 - ???\n",
    "    \"Action\": \"accept\",\n",
    "}\n",
    "\n",
    "# response = firewall.create(entity_type, entity_data)  # OR update\n",
    "\n",
    "response = firewall.update(entity_type, entity_data)\n",
    "\n",
    "print(\"Code:\", response[\"status\"], \"Text:\", response[\"message\"])"
   ]
  }
 ],
 "metadata": {
  "kernelspec": {
   "display_name": "Python 3",
   "language": "python",
   "name": "python3"
  },
  "language_info": {
   "codemirror_mode": {
    "name": "ipython",
    "version": 3
   },
   "file_extension": ".py",
   "mimetype": "text/x-python",
   "name": "python",
   "nbconvert_exporter": "python",
   "pygments_lexer": "ipython3",
   "version": "3.12.6"
  },
  "orig_nbformat": 4
 },
 "nbformat": 4,
 "nbformat_minor": 2
}
