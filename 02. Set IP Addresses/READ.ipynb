{
 "cells": [
  {
   "cell_type": "code",
   "execution_count": null,
   "metadata": {},
   "outputs": [],
   "source": [
    "import os\n",
    "import sys\n",
    "\n",
    "sys.path.insert(0, os.path.dirname(os.getcwd()))\n",
    "\n",
    "from firewall_api import Firewall, LIKE, EQ, NOT\n",
    "import json\n",
    "\n",
    "# Firewall Credentials\n",
    "# JSON File\n",
    "# {\n",
    "#     \"firewall_ip\": \"<FIREWALL_IP_ADDRESS>\",\n",
    "#     \"username\": \"<USER_NAME>\",\n",
    "#     \"port\" : \"<FIREWALL_PORT>\"\n",
    "#     \"password\": \"<PASSWORD\",\n",
    "#     \"password_encrypted\": <true|false>\n",
    "# }\n",
    "\n",
    "firewall_info = json.load(open(\"../Credentials/firewall_access.json\"))\n",
    "username = firewall_info[\"username\"]\n",
    "password = firewall_info[\"password\"]\n",
    "firewall_ip = firewall_info[\"firewall_ip\"]\n",
    "port = firewall_info[\"port\"]\n",
    "password_encrypted = firewall_info[\"password_encrypted\"]\n",
    "\n",
    "firewall = Firewall(\n",
    "    username,\n",
    "    password,\n",
    "    firewall_ip,\n",
    "    port,\n",
    "    password_encrypted,\n",
    ")"
   ]
  },
  {
   "cell_type": "code",
   "execution_count": null,
   "metadata": {},
   "outputs": [],
   "source": [
    "firewall = Firewall(username, password, firewall_ip, port, certificate_verify=False, password_encrypted=True)\n",
    "\n",
    "entity = \"IPHost\"\n",
    "\n",
    "response = firewall.read(entity, \"Internet\", LIKE)\n",
    "\n",
    "print(\"Code:\", response[\"status\"], \"Text:\", response[\"message\"])\n",
    "\n",
    "for index, item in enumerate(response[\"data\"], start=1):\n",
    "    print(f\"{index:002}: {item}\")"
   ]
  },
  {
   "cell_type": "code",
   "execution_count": null,
   "metadata": {},
   "outputs": [],
   "source": [
    "for item in open(\"Firewall Entities.csv\", \"r\"):\n",
    "    print(\"\\n\\n\", item, end=\"\")\n",
    "    response = firewall.read(item.strip())\n",
    "    print(\"Code:\", response[\"status\"], \"Text:\", response[\"message\"])\n",
    "\n",
    "    for index, item in enumerate(response[\"data\"], start=1):\n",
    "        print(f\"{index:02}: {item}\")"
   ]
  },
  {
   "cell_type": "code",
   "execution_count": null,
   "metadata": {},
   "outputs": [],
   "source": [
    "firewall = Firewall(username, password, firewall_ip, port, password_encrypted)\n",
    "\n",
    "entity = \"IPHostGroup\"\n",
    "\n",
    "response = firewall.read(entity)\n",
    "\n",
    "print(\"Code:\", response[\"code\"], \"Text:\", response[\"text\"])\n",
    "\n",
    "for index, item in enumerate(response[\"data\"], start=1):\n",
    "    print(f\"{index:002}: {item}\")"
   ]
  },
  {
   "cell_type": "code",
   "execution_count": null,
   "metadata": {},
   "outputs": [],
   "source": [
    "test = {\n",
    "    \"ActiveDirectory\": {\n",
    "        \"ServerName\": \"AD\",\n",
    "        \"ServerAddress\": \"192.168.30.50\",\n",
    "        \"Port\": \"636\",\n",
    "        \"NetBIOSDomain\": \"LAB\",\n",
    "        \"ADSUsername\": \"mitko\",\n",
    "        \"Password\": {\n",
    "            \"@hashform\": \"mode1\",\n",
    "            \"#text\": \"$sfos$7$0$ItJ_pd5UQBUHFxjiC7mX1Vr8zZvda9Qael7H6J7ATaSwyGtwGZc4fgzqtpdzZgp8D3bPkK-OVVOSU-Smk2Ja0A~~8xtT69rcIzCgZr2eI8ZgR6VUO7tSBy1qTZL7Uk0_Uqk~\",\n",
    "        },\n",
    "        \"ConnectionSecurity\": \"SSL\",\n",
    "        \"ValidCertReq\": \"Disable\",\n",
    "        \"DisplayNameAttribute\": None,\n",
    "        \"EmailAddressAttribute\": \"mail\",\n",
    "        \"DomainName\": \"lab.local\",\n",
    "        \"SearchQueries\": {\"Query\": \"dc=lab,dc=local\"},\n",
    "    },\n",
    "    \"LDAPServer\": {\"@transactionid\": \"\", \"Status\": \"No. of records Zero.\"},\n",
    "    \"RADIUSServer\": {\"@transactionid\": \"\", \"Status\": \"No. of records Zero.\"},\n",
    "    \"TACACSServer\": {\"@transactionid\": \"\", \"Status\": \"No. of records Zero.\"},\n",
    "    \"EDirectory\": {\"@transactionid\": \"\", \"Status\": \"No. of records Zero.\"},\n",
    "}\n",
    "\n",
    "\n",
    "entity = \"AuthenticationServer\"\n",
    "\n",
    "response = firewall.read(entity)\n",
    "\n",
    "print(\"Code:\", response[\"status\"], \"Text:\", response[\"message\"])\n",
    "\n",
    "for index, item in enumerate(response[\"data\"], start=1):\n",
    "    print(f\"{index:002}: {item}\")"
   ]
  },
  {
   "cell_type": "code",
   "execution_count": null,
   "metadata": {},
   "outputs": [],
   "source": [
    "entity = \"PatternDownload\"\n",
    "\n",
    "response = firewall.read(entity)\n",
    "\n",
    "print(\"Code:\", response[\"status\"], \"Text:\", response[\"message\"])\n",
    "\n",
    "print(json.dumps(response[\"data\"], indent=4))"
   ]
  },
  {
   "cell_type": "code",
   "execution_count": null,
   "metadata": {},
   "outputs": [],
   "source": [
    "# CREATE ENTITY with entity_type \"IPHost\" and entity_data for \"HostType\" Network\n",
    "\n",
    "entity_type = \"IPHost\"\n",
    "entity_data = {\n",
    "    \"Name\": \"192.168.96.0/24\",\n",
    "    \"IPFamily\": \"IPv4\",\n",
    "    \"HostType\": \"Network\",\n",
    "    \"IPAddress\": \"192.168.96.0\",\n",
    "    \"Subnet\": \"255.255.255.0\",\n",
    "}\n",
    "\n",
    "firewall.create(entity_type, entity_data)"
   ]
  },
  {
   "cell_type": "code",
   "execution_count": null,
   "metadata": {},
   "outputs": [],
   "source": [
    "# READ settings for ENTITY with entity_type\n",
    "\n",
    "entity_type = \"LocalServiceACL\"\n",
    "\n",
    "response = firewall.read(entity_type)\n",
    "print(\"Code:\", response[\"status\"], \"Text:\", response[\"message\"])\n",
    "\n",
    "# List/Dump diction of responses\n",
    "for index, item in enumerate(response[\"data\"], start=1):\n",
    "    print(f\"{index:002}: {item}\")"
   ]
  },
  {
   "cell_type": "code",
   "execution_count": null,
   "metadata": {},
   "outputs": [],
   "source": [
    "# CREAT ENTITY with entity_type from entity_data\n",
    "\n",
    "entity_type = \"LocalServiceACL\"\n",
    "entity_data = {\n",
    "    \"RuleName\": \"Admin Access from WAN\",\n",
    "    \"Description\": \"This was applied through the API by the administrator.\",\n",
    "    \"Position\": \"Top\",\n",
    "    \"IPFamily\": \"IPv4\",\n",
    "    \"SourceZone\": \"WAN\",\n",
    "    \"Hosts\": {\"Host\": [\"192.168.30.0/24\", \"192.168.10.0/24\", \"37.200.116.65\", \"192.168.103.0/24\", \"192.168.96.0/24\", \"192.168.122.0/24\"]},\n",
    "    \"Services\": {\n",
    "        \"Service\": [\"HTTPS\", \"SSH\", \"DNS\", \"Ping\", \"SSLVPN\", \"SNMP\", \"IPsec\", \"SMTPRelay\", \"RED\", \"UserPortal\", \"DynamicRouting\", \"40\", \"VPNPortal\"]\n",
    "    },\n",
    "    \"Action\": \"accept\",\n",
    "}\n",
    "\n",
    "firewall.create(entity_type, entity_data)"
   ]
  },
  {
   "cell_type": "code",
   "execution_count": null,
   "metadata": {},
   "outputs": [],
   "source": [
    "# UPDATE ENTITY with entity_type from entity_data and find by \"RuleName\"\n",
    "\n",
    "entity_data = {\n",
    "    \"RuleName\": \"Admin Access from WAN\",\n",
    "    \"Description\": \"This was UPDATED through the API by the administrator.\",\n",
    "    \"Hosts\": {\"Host\": [\"192.168.122.0/24\"]},\n",
    "    \"Action\": \"accept\",\n",
    "}\n",
    "\n",
    "firewall.update(entity_type, entity_data, \"Admin Access from WAN\", \"RuleName\")"
   ]
  },
  {
   "cell_type": "code",
   "execution_count": null,
   "metadata": {},
   "outputs": [],
   "source": [
    "# DELETE ENTITY with entity_type and entity_name and find by \"RuleName\"\n",
    "\n",
    "firewall.delete(\"LocalServiceACL\", \"Admin Access from WAN\", \"RuleName\")"
   ]
  }
 ],
 "metadata": {
  "kernelspec": {
   "display_name": "Python 3",
   "language": "python",
   "name": "python3"
  },
  "language_info": {
   "codemirror_mode": {
    "name": "ipython",
    "version": 3
   },
   "file_extension": ".py",
   "mimetype": "text/x-python",
   "name": "python",
   "nbconvert_exporter": "python",
   "pygments_lexer": "ipython3",
   "version": "3.12.6"
  },
  "orig_nbformat": 4
 },
 "nbformat": 4,
 "nbformat_minor": 2
}
