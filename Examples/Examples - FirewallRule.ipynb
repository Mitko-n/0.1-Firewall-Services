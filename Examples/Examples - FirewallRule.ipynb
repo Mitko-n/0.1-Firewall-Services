{
 "cells": [
  {
   "cell_type": "code",
   "execution_count": null,
   "metadata": {},
   "outputs": [],
   "source": [
    "# Imports and initialization\n",
    "#\n",
    "import os\n",
    "import sys\n",
    "\n",
    "sys.path.insert(0, os.path.dirname(os.getcwd()))\n",
    "\n",
    "from firewall_api.FirewallAPI import *\n",
    "\n",
    "firewall = Firewall(username=\"admin\", password=\"Sophos1985\", hostname=\"172.16.17.30\")"
   ]
  },
  {
   "cell_type": "code",
   "execution_count": null,
   "metadata": {},
   "outputs": [],
   "source": [
    "# Login Check\n",
    "#\n",
    "firewall.read(\"Login\")"
   ]
  },
  {
   "cell_type": "code",
   "execution_count": null,
   "metadata": {},
   "outputs": [],
   "source": [
    "# CREATE -> \"FirewallRule\"\n",
    "#\n",
    "entity_data = {\n",
    "    \"Name\": \"Demo Rule\",\n",
    "    \"Status\": \"Disable\",\n",
    "    \"Position\": \"Top\",\n",
    "    \"PolicyType\": \"Network\",\n",
    "    \"NetworkPolicy\": {\n",
    "        \"Action\": \"Accept\",\n",
    "        \"SourceZones\": {\"Zone\": [\"LAN\"]},\n",
    "        \"DestinationZones\": {\"Zone\": [\"WAN\"]},\n",
    "    },\n",
    "}\n",
    "response = firewall.create(\"FirewallRule\", entity_data)\n",
    "print(response)"
   ]
  },
  {
   "cell_type": "code",
   "execution_count": null,
   "metadata": {},
   "outputs": [],
   "source": [
    "# READ -> all \"FirewallRule\"\n",
    "#\n",
    "response = firewall.read(\"FirewallRule\")\n",
    "for rule in response[\"data\"]:\n",
    "    print(rule)"
   ]
  },
  {
   "cell_type": "code",
   "execution_count": null,
   "metadata": {},
   "outputs": [],
   "source": [
    "# UPDATE -> (add) \"SourceNetworks\" to  \"FirewallRule\" with name \"Demo Rule\"\n",
    "#\n",
    "updated_data = {\n",
    "    \"Status\": \"Enable\",\n",
    "    \"NetworkPolicy\": {\n",
    "        \"Action\": \"Accept\",\n",
    "        \"SourceNetworks\": {\"Network\": [\"192.168.30.0/24\", \"192.168.10.0/24\"]},\n",
    "    },\n",
    "}\n",
    "response = firewall.update(\"FirewallRule\", updated_data, entity_name=\"Demo Rule\")\n",
    "print(response)"
   ]
  },
  {
   "cell_type": "code",
   "execution_count": null,
   "metadata": {},
   "outputs": [],
   "source": [
    "# UPDATE -> Disable \"FirewallRule\" with name \"Demo Rule\"\n",
    "#\n",
    "updated_data = {\n",
    "    \"Status\": \"Disable\",\n",
    "}\n",
    "response = firewall.update(\"FirewallRule\", updated_data, entity_name=\"Demo Rule\")\n",
    "print(response)"
   ]
  },
  {
   "cell_type": "code",
   "execution_count": null,
   "metadata": {},
   "outputs": [],
   "source": [
    "# UPDATE -> Enable \"LogTraffic\" for \"FirewallRule\" with name \"Demo Rule\" (name in the update_data)\n",
    "#\n",
    "updated_data = {\n",
    "    \"Name\": \"Demo Rule\",\n",
    "    \"Status\": \"Enable\",\n",
    "    \"NetworkPolicy\": {\n",
    "        \"LogTraffic\": \"Enable\",\n",
    "    },\n",
    "}\n",
    "response = firewall.update(\"FirewallRule\", updated_data)\n",
    "print(response)"
   ]
  },
  {
   "cell_type": "code",
   "execution_count": null,
   "metadata": {},
   "outputs": [],
   "source": [
    "# DELETE -> \"FirewallRule\" with name \"Demo Rule\"\n",
    "#\n",
    "response = firewall.delete(\"FirewallRule\", filter_value=\"Demo Rule\")\n",
    "print(response)"
   ]
  },
  {
   "cell_type": "markdown",
   "metadata": {},
   "source": [
    "#### Batch Operations"
   ]
  },
  {
   "cell_type": "code",
   "execution_count": null,
   "metadata": {},
   "outputs": [],
   "source": [
    "# Batch Operations\n",
    "#\n",
    "operations = [\n",
    "    # Example: Read all FirewallRules with optional filter_criteria and filter_key_field\n",
    "    {\n",
    "        \"action\": \"read\",\n",
    "        \"entity\": \"FirewallRule\",\n",
    "    },\n",
    "    # Example: Read a specific FirewallRule based on Name with custom filter criteria\n",
    "    {\n",
    "        \"action\": \"read\",\n",
    "        \"entity\": \"FirewallRule\",\n",
    "        \"filter_value\": \"Demo Rule\",  # Specific FirewallRule to read\n",
    "        \"filter_criteria\": \"EQ\",  # Equality check (optional)\n",
    "    },\n",
    "    # Example: Create a new FirewallRule\n",
    "    {\n",
    "        \"action\": \"create\",\n",
    "        \"entity\": \"FirewallRule\",\n",
    "        \"entity_data\": {  # Entity data for creating a new FirewallRule\n",
    "            \"Name\": \"Demo Rule 1\",\n",
    "            \"Status\": \"Disable\",\n",
    "            \"Position\": \"Top\",\n",
    "            \"PolicyType\": \"Network\",\n",
    "            \"NetworkPolicy\": {\"Action\": \"Accept\", \"SourceZones\": {\"Zone\": [\"LAN\"]}, \"DestinationZones\": {\"Zone\": [\"WAN\"]}},\n",
    "        },\n",
    "    },\n",
    "    # Example: Create a new FirewallRule\n",
    "    {\n",
    "        \"action\": \"create\",\n",
    "        \"entity\": \"FirewallRule\",\n",
    "        \"entity_data\": {  # Entity data for creating a new FirewallRule\n",
    "            \"Name\": \"Demo Rule 2\",\n",
    "            \"Status\": \"Disable\",\n",
    "            \"Position\": \"Top\",\n",
    "            \"PolicyType\": \"Network\",\n",
    "            \"NetworkPolicy\": {\"Action\": \"Accept\", \"SourceZones\": {\"Zone\": [\"LAN\"]}, \"DestinationZones\": {\"Zone\": [\"WAN\"]}},\n",
    "        },\n",
    "    },\n",
    "    # Example: Update an existing FirewallRule\n",
    "    {\n",
    "        \"action\": \"update\",\n",
    "        \"entity\": \"FirewallRule\",\n",
    "        \"entity_data\": {  # Data to update an existing FirewallRule\n",
    "            \"Name\": \"Demo Rule 1\",\n",
    "            \"Status\": \"Enable\",\n",
    "            \"NetworkPolicy\": {\"LogTraffic\": \"Enable\", \"SourceNetworks\": {\"Network\": [\"192.168.30.0/24\", \"192.168.10.0/24\"]}},\n",
    "        },\n",
    "    },\n",
    "    # Example: Delete a specific FirewallRule ONE BY ONE\n",
    "    {\n",
    "        \"action\": \"delete\",\n",
    "        \"entity\": \"FirewallRule\",\n",
    "        \"filter_value\": \"Demo Rule 2\",  # Specific FirewallRule to delete\n",
    "    },\n",
    "    {\n",
    "        \"action\": \"delete\",\n",
    "        \"entity\": \"FirewallRule\",\n",
    "        \"filter_value\": \"Demo Rule 1\",  # Specific FirewallRule to delete\n",
    "    },\n",
    "    # Example: Read a specific FirewallRule based on Name with custom filter criteria\n",
    "    {\n",
    "        \"action\": \"read\",\n",
    "        \"entity\": \"FirewallRule\",\n",
    "        \"filter_value\": \"Demo Rule\",  # Specific FirewallRule to delete\n",
    "        \"filter_criteria\": \"like\",  # Equality check (optional)\n",
    "    },\n",
    "    # Example: Read all IPHost with optional filter_criteria and filter_key_field\n",
    "    {\n",
    "        \"action\": \"read\",\n",
    "        \"entity\": \"IPHost\",\n",
    "        \"filter_value\": \"192.168.10.\",\n",
    "        \"filter_criteria\": \"like\",\n",
    "        \"filter_key_field\": \"IPAddress\",\n",
    "    },\n",
    "]\n",
    "\n",
    "\n",
    "results = firewall.batch_operation(operations, debug=True)\n",
    "\n",
    "for result in results:\n",
    "    print(\"\\n\\n\")\n",
    "    for item in result[\"data\"]:\n",
    "        print(item)"
   ]
  },
  {
   "cell_type": "markdown",
   "metadata": {},
   "source": [
    "#### IPHost  Examples"
   ]
  },
  {
   "cell_type": "code",
   "execution_count": null,
   "metadata": {},
   "outputs": [],
   "source": [
    "response = firewall.read(entity=\"IPHost\", filter_value=\"#P\", filter_criteria=LIKE)\n",
    "for index, item in enumerate(response[\"data\"], start=1):\n",
    "    print(f\"{index:003} - {item}\")"
   ]
  },
  {
   "cell_type": "code",
   "execution_count": null,
   "metadata": {},
   "outputs": [],
   "source": [
    "response = firewall.read(\"Interface\")\n",
    "for index, item in enumerate(response[\"data\"], start=1):\n",
    "    print(f\"{index:003} - {item}\")"
   ]
  },
  {
   "cell_type": "code",
   "execution_count": null,
   "metadata": {},
   "outputs": [],
   "source": [
    "response = firewall.read(\"IPHost\", \"##\")\n",
    "for index, item in enumerate(response[\"data\"], start=1):\n",
    "    print(f\"{index:003} - {item}\")"
   ]
  },
  {
   "cell_type": "code",
   "execution_count": null,
   "metadata": {},
   "outputs": [],
   "source": [
    "response = firewall.read(entity=\"IPHost\", filter_value=\"192.168.10.\", filter_criteria=LIKE, filter_key_field=\"IPAddress\")\n",
    "for index, item in enumerate(response[\"data\"], start=1):\n",
    "    print(f\"{index:003} - {item}\")"
   ]
  },
  {
   "cell_type": "markdown",
   "metadata": {},
   "source": [
    "#### UPDATE Entity whitout Name"
   ]
  },
  {
   "cell_type": "code",
   "execution_count": null,
   "metadata": {},
   "outputs": [],
   "source": [
    "print(firewall.read(\"PatternDownload\"))\n",
    "# Update Entity without Name\n",
    "print(firewall.update(\"PatternDownload\", {\"AutoUpdate\": \"On\", \"Interval\": \"Every 15 minutes\"}, entity_name=\"\"))  # Fake Name. Entity do not have name\n",
    "# Control print\n",
    "print(firewall.read(\"PatternDownload\"))"
   ]
  },
  {
   "cell_type": "code",
   "execution_count": null,
   "metadata": {},
   "outputs": [],
   "source": [
    "firewall.close()"
   ]
  }
 ],
 "metadata": {
  "kernelspec": {
   "display_name": "Python 3",
   "language": "python",
   "name": "python3"
  },
  "language_info": {
   "codemirror_mode": {
    "name": "ipython",
    "version": 3
   },
   "file_extension": ".py",
   "mimetype": "text/x-python",
   "name": "python",
   "nbconvert_exporter": "python",
   "pygments_lexer": "ipython3",
   "version": "3.12.6"
  }
 },
 "nbformat": 4,
 "nbformat_minor": 2
}
