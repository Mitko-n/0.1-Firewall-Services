{
 "cells": [
  {
   "cell_type": "code",
   "execution_count": 1,
   "metadata": {},
   "outputs": [],
   "source": [
    "import os\n",
    "import sys\n",
    "\n",
    "sys.path.insert(0, os.path.dirname(os.getcwd()))\n",
    "\n",
    "# Importing the Firewall API\n",
    "from firewall_api import Firewall, LIKE, EQ, NOT\n",
    "import json\n",
    "import ipaddress\n",
    "import csv\n",
    "\n",
    "# Firewall Credentials\n",
    "# JSON File\n",
    "# {\n",
    "#     \"firewall_ip\": \"<FIREWALL_IP_ADDRESS>\",\n",
    "#     \"username\": \"<USER_NAME>\",\n",
    "#     \"port\" : \"<FIREWALL_PORT>\"\n",
    "#     \"password\": \"<PASSWORD\",\n",
    "#     \"password_encrypted\": <true|false>\n",
    "# }"
   ]
  },
  {
   "cell_type": "code",
   "execution_count": 2,
   "metadata": {},
   "outputs": [],
   "source": [
    "firewall_info = json.load(open(\"../Credentials/firewall_access.json\"))\n",
    "username = firewall_info[\"username\"]\n",
    "password = firewall_info[\"password\"]\n",
    "firewall_ip = firewall_info[\"firewall_ip\"]\n",
    "port = firewall_info[\"port\"]\n",
    "password_encrypted = firewall_info[\"password_encrypted\"]\n",
    "\n",
    "firewall = Firewall(username, password, firewall_ip, port, certificate_verify=False, password_encrypted=True)"
   ]
  },
  {
   "cell_type": "code",
   "execution_count": null,
   "metadata": {},
   "outputs": [],
   "source": [
    "# Test connection\n",
    "print(f\"Connection Test ::  {firewall.read(\"Login\")}\\n\")"
   ]
  },
  {
   "cell_type": "code",
   "execution_count": 4,
   "metadata": {},
   "outputs": [],
   "source": [
    "def create_entity(self, entity_type, entity_data, print_data=False, print_result=False):\n",
    "    \"\"\"\n",
    "    Create and log an entity.\n",
    "\n",
    "    :param entity_type: The type of entity to create.\n",
    "    :param entity_data: The data for the entity to create.\n",
    "    :param print_data: Boolean to print the data being sent (default is False).\n",
    "    :param print_result: Boolean to print the result of the operation (default is False).\n",
    "    :return: The response from the create operation.\n",
    "    \"\"\"\n",
    "    if print_data:\n",
    "        print(f\"Creating {entity_type} with data: {entity_data}\")\n",
    "    response = self.create(entity_type, entity_data)\n",
    "    if print_result:\n",
    "        print(f\"CREATE :: {response}\\n\")\n",
    "    return response\n",
    "\n",
    "def update_entity(self, entity_type, entity_data, print_data=False, print_result=False):\n",
    "    \"\"\"\n",
    "    Update and log an entity.\n",
    "\n",
    "    :param entity_type: The type of entity to update.\n",
    "    :param entity_data: The data for the entity to update.\n",
    "    :param print_data: Boolean to print the data being sent (default is False).\n",
    "    :param print_result: Boolean to print the result of the operation (default is False).\n",
    "    :return: The response from the update operation.\n",
    "    \"\"\"\n",
    "    if print_data:\n",
    "        print(f\"Updating {entity_type} with data: {entity_data}\")\n",
    "    response = self.update(entity_type, entity_data)\n",
    "    if print_result:\n",
    "        print(f\"UPDATE :: {response}\\n\")\n",
    "    return response\n",
    "\n",
    "def read_entity(self, entity_type, filter_value=None, filter_selector=LIKE, filter_key=None, print_data=False, print_result=False):\n",
    "    \"\"\"\n",
    "    Read and log an entity.\n",
    "\n",
    "    :param entity_type: The type of entity to read.\n",
    "    :param filter_value: The value to filter the entity by.\n",
    "    :param filter_selector: The criteria to filter the entity (default is LIKE).\n",
    "    :param filter_key: The key field to filter the entity by.\n",
    "    :param print_data: Boolean to print the data being sent (default is False).\n",
    "    :param print_result: Boolean to print the result of the operation (default is False).\n",
    "    :return: The response from the read operation.\n",
    "    \"\"\"\n",
    "    if print_data:\n",
    "        print(\n",
    "            f\"Reading {entity_type} with filter: {filter_value} \"\n",
    "            f\"(Filter criteria: {filter_selector}, Filter key: {filter_key if filter_key else 'Name'})\"\n",
    "        )\n",
    "    response = self.read(entity_type, filter_value, filter_selector, filter_key)\n",
    "    if print_result:\n",
    "        print(f\"READ :: {response}\\n\")\n",
    "    return response\n",
    "\n",
    "def delete_entity(self, entity_type, filter_value=None, filter_selector=EQ, filter_key=None, print_data=False, print_result=False):\n",
    "    \"\"\"\n",
    "    Delete and log an entity.\n",
    "\n",
    "    :param entity_type: The type of entity to delete.\n",
    "    :param filter_value: The value to filter the entity by for deletion.\n",
    "    :param filter_selector: The criteria to filter the entity (default is EQ).\n",
    "    :param filter_key: The key field to filter the entity by.\n",
    "    :param print_data: Boolean to print the data being sent (default is False).\n",
    "    :param print_result: Boolean to print the result of the operation (default is False).\n",
    "    :return: The response from the delete operation.\n",
    "    \"\"\"\n",
    "    if print_data:\n",
    "        print(\n",
    "            f\"Deleting {entity_type} with filter: {filter_value} \"\n",
    "            f\"(Filter criteria: {filter_selector}, Filter key: {filter_key if filter_key else 'Name'})\"\n",
    "        )\n",
    "    response = self.delete(entity_type, filter_value, filter_selector, filter_key)\n",
    "    if print_result:\n",
    "        print(f\"DELETE :: {response}\\n\")\n",
    "    return response"
   ]
  },
  {
   "cell_type": "code",
   "execution_count": 5,
   "metadata": {},
   "outputs": [],
   "source": [
    "# Load objects from CSV\n",
    "with open(\"IPaddresses.csv\", \"r\", encoding=\"UTF8\", newline=\"\") as csv_file:\n",
    "    list_of_objects = list(csv.DictReader(csv_file))\n",
    "\n",
    "# Common constants\n",
    "PREFIX = \"BFA_\"  # Prefix for all objects\n",
    "COMMON_DESCRIPTION = \"Created by Integrity360 Sophos Firewall API\""
   ]
  },
  {
   "cell_type": "code",
   "execution_count": null,
   "metadata": {},
   "outputs": [],
   "source": [
    "# Create IPHostGroup\n",
    "ip_host_group_name = f\"{PREFIX}Brute-force attack Group\"\n",
    "create_entity(\n",
    "    firewall,\n",
    "    \"IPHostGroup\",\n",
    "    {\n",
    "        \"Name\": ip_host_group_name,\n",
    "        \"IPFamily\": \"IPv4\",\n",
    "        \"Description\": COMMON_DESCRIPTION,\n",
    "    },\n",
    ")"
   ]
  },
  {
   "cell_type": "code",
   "execution_count": null,
   "metadata": {},
   "outputs": [],
   "source": [
    "# Process each object from the CSV\n",
    "for item in list_of_objects:\n",
    "    entity_type = None\n",
    "    entity_data = {}\n",
    "\n",
    "    if item[\"type\"] == \"ipv4\":\n",
    "        entity_type = \"IPHost\"\n",
    "        entity_data[\"IPFamily\"] = \"IPv4\"\n",
    "\n",
    "        if \"-\" in item[\"data\"]:  # IP range\n",
    "            start_ip, end_ip = item[\"data\"].replace(\" \", \"\").split(\"-\")\n",
    "            entity_data.update(\n",
    "                {\n",
    "                    \"Name\": f\"{PREFIX}IPR_{item['data']}\",\n",
    "                    \"HostType\": \"IPRange\",\n",
    "                    \"StartIPAddress\": start_ip,\n",
    "                    \"EndIPAddress\": end_ip,\n",
    "                }\n",
    "            )\n",
    "        else:  # Single IP or Network\n",
    "            network = ipaddress.IPv4Network(item[\"data\"])\n",
    "            if str(network.netmask) == \"255.255.255.255\":  # Single IP\n",
    "                entity_data.update(\n",
    "                    {\n",
    "                        \"Name\": f\"{PREFIX}IPH_{item['data']}\",\n",
    "                        \"HostType\": \"IP\",\n",
    "                        \"IPAddress\": str(network.network_address),\n",
    "                    }\n",
    "                )\n",
    "            else:  # Network\n",
    "                entity_data.update(\n",
    "                    {\n",
    "                        \"Name\": f\"{PREFIX}IPNW_{item['data']}\",\n",
    "                        \"HostType\": \"Network\",\n",
    "                        \"IPAddress\": str(network.network_address),\n",
    "                        \"Subnet\": str(network.netmask),\n",
    "                    }\n",
    "                )\n",
    "\n",
    "        entity_data[\"HostGroupList\"] = {\"HostGroup\": ip_host_group_name}\n",
    "\n",
    "    else:\n",
    "        print(f\"Unsupported type: {item['type']} - Skipping item.\")\n",
    "        continue  # Skip unsupported types\n",
    "\n",
    "    # Add common properties and create entity\n",
    "    entity_data[\"Description\"] = COMMON_DESCRIPTION\n",
    "    create_entity(firewall, entity_type, entity_data, print_data=True)"
   ]
  },
  {
   "cell_type": "code",
   "execution_count": 8,
   "metadata": {},
   "outputs": [],
   "source": [
    "entity_type = \"LocalServiceACL\"\n",
    "rule_name = f\"{PREFIX}Brute-force attack ACL\""
   ]
  },
  {
   "cell_type": "code",
   "execution_count": null,
   "metadata": {},
   "outputs": [],
   "source": [
    "entity_data = {\n",
    "    \"RuleName\": rule_name,\n",
    "    \"Description\": \"Added according to Sophos recommendations: https://support.sophos.com/support/s/article/KBA-000009932\",\n",
    "    \"Position\": \"Top\",\n",
    "    \"IPFamily\": \"IPv4\",\n",
    "    \"SourceZone\": \"WAN\",\n",
    "    \"Hosts\": {\"Host\": ip_host_group_name},\n",
    "    \"Services\": {\n",
    "        \"Service\": [\n",
    "            \"HTTPS\",\n",
    "            \"SSH\",\n",
    "            \"DNS\",\n",
    "            \"Ping\",\n",
    "            \"SSLVPN\",\n",
    "            \"SNMP\",\n",
    "            \"IPsec\",\n",
    "            \"SMTPRelay\",\n",
    "            \"RED\",\n",
    "            \"UserPortal\",\n",
    "            \"DynamicRouting\",\n",
    "            \"VPNPortal\",\n",
    "            \"40\",\n",
    "        ]\n",
    "    },\n",
    "    \"Action\": \"drop\",\n",
    "}\n",
    "\n",
    "create_entity(firewall, entity_type, entity_data, print_data=True)"
   ]
  },
  {
   "cell_type": "code",
   "execution_count": null,
   "metadata": {},
   "outputs": [],
   "source": [
    "for item in enumerate(read_entity(firewall, \"LocalServiceACL\", print_data=True).get(\"data\", [])):\n",
    "    print(item)"
   ]
  },
  {
   "cell_type": "code",
   "execution_count": null,
   "metadata": {},
   "outputs": [],
   "source": [
    "read_entity(firewall, entity_type, f\"{PREFIX}\", filter_key=\"RuleName\", print_data=True)"
   ]
  },
  {
   "cell_type": "code",
   "execution_count": null,
   "metadata": {},
   "outputs": [],
   "source": [
    "entity_name = rule_name\n",
    "entity_type = \"LocalServiceACL\"\n",
    "delete_entity(firewall, entity_type, filter_value=entity_name, print_data=True, print_result=True)"
   ]
  },
  {
   "cell_type": "code",
   "execution_count": null,
   "metadata": {},
   "outputs": [],
   "source": [
    "delete_entity(firewall, \"IPHostGroup\", PREFIX, LIKE, print_data=True, print_result=True)"
   ]
  },
  {
   "cell_type": "code",
   "execution_count": null,
   "metadata": {},
   "outputs": [],
   "source": [
    "delete_entity(firewall, \"IPHost\", PREFIX, LIKE, print_data=True, print_result=True)"
   ]
  }
 ],
 "metadata": {
  "kernelspec": {
   "display_name": "Python 3",
   "language": "python",
   "name": "python3"
  },
  "language_info": {
   "codemirror_mode": {
    "name": "ipython",
    "version": 3
   },
   "file_extension": ".py",
   "mimetype": "text/x-python",
   "name": "python",
   "nbconvert_exporter": "python",
   "pygments_lexer": "ipython3",
   "version": "3.12.6"
  }
 },
 "nbformat": 4,
 "nbformat_minor": 2
}
