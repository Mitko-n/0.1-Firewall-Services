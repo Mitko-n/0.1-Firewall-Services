{
 "cells": [
  {
   "cell_type": "code",
   "execution_count": 15,
   "metadata": {},
   "outputs": [],
   "source": [
    "import os\n",
    "import sys\n",
    "\n",
    "sys.path.insert(0, os.path.dirname(os.getcwd()))\n",
    "\n",
    "# Importing the Firewall API\n",
    "from firewall_api import Firewall, LIKE, EQ, NOT\n",
    "import json\n",
    "import ipaddress\n",
    "import csv\n",
    "\n",
    "# Firewall Credentials\n",
    "# JSON File\n",
    "# {\n",
    "#     \"firewall_ip\": \"<FIREWALL_IP_ADDRESS>\",\n",
    "#     \"username\": \"<USER_NAME>\",\n",
    "#     \"port\" : \"<FIREWALL_PORT>\"\n",
    "#     \"password\": \"<PASSWORD\",\n",
    "#     \"password_encrypted\": <true|false>\n",
    "# }\n",
    "\n",
    "firewall_info = json.load(open(\"../Credentials/firewall_access.json\"))\n",
    "username = firewall_info[\"username\"]\n",
    "password = firewall_info[\"password\"]\n",
    "firewall_ip = firewall_info[\"firewall_ip\"]\n",
    "port = firewall_info[\"port\"]\n",
    "password_encrypted = firewall_info[\"password_encrypted\"]\n",
    "\n",
    "firewall = Firewall(\n",
    "    username,\n",
    "    password,\n",
    "    firewall_ip,\n",
    "    port,\n",
    "    certificate_verify=False,\n",
    "    password_encrypted=True,\n",
    ")"
   ]
  },
  {
   "cell_type": "code",
   "execution_count": 16,
   "metadata": {},
   "outputs": [
    {
     "name": "stdout",
     "output_type": "stream",
     "text": [
      "Connection Test ::  {'status': '216', 'message': 'Operation Successful.', 'data': [{'status': 'Authentication Successful'}]}\n",
      "\n"
     ]
    }
   ],
   "source": [
    "# Test connection\n",
    "print(f\"Connection Test ::  {firewall.read(\"Login\")}\\n\")"
   ]
  },
  {
   "cell_type": "code",
   "execution_count": null,
   "metadata": {},
   "outputs": [],
   "source": [
    "# Function to create and log entities\n",
    "def create_entity(firewall, entity_type, entity_data, print_data=False, print_result=False):\n",
    "    if print_data:\n",
    "        print(f\"Creating {entity_type} with data: {entity_data}\")\n",
    "    response = firewall.create(entity_type, entity_data)\n",
    "    if print_result:\n",
    "        print(f\"CREATE :: {response}\\n\")\n",
    "    return response\n",
    "\n",
    "\n",
    "# Function to update and log entities\n",
    "def update_entity(firewall, entity_type, entity_data, print_data=False, print_result=False):\n",
    "    if print_data:\n",
    "        print(f\"Updating {entity_type} with data: {entity_data}\")\n",
    "    response = firewall.update(entity_type, entity_data)\n",
    "    if print_result:\n",
    "        print(f\"UPDATE :: {response}\\n\")\n",
    "    return response\n",
    "\n",
    "\n",
    "# Function to read and log entities\n",
    "def read_entity(firewall, entity_type, entity_data={}, filter_selector=LIKE, print_data=False, print_result=False):\n",
    "    if print_data:\n",
    "        print(f\"Reading {entity_type} with filter: {entity_data} (Filter criteria: {filter_selector})\")\n",
    "    response = firewall.read(entity_type, entity_data, filter_selector)\n",
    "    if print_result:\n",
    "        print(f\"READ :: {response}\\n\")\n",
    "    return response\n",
    "\n",
    "\n",
    "# Function to delete and log entities\n",
    "def delete_entity(firewall, entity_type, entity_data, filter_selector=EQ, print_data=False, print_result=False):\n",
    "    if print_data:\n",
    "        print(f\"Deleting {entity_type} with filter: {entity_data} (Filter criteria: {filter_selector})\")\n",
    "    response = firewall.delete(entity_type, entity_data, filter_selector)\n",
    "    if print_result:\n",
    "        print(f\"DELETE :: {response}\\n\")\n",
    "    return response"
   ]
  },
  {
   "cell_type": "code",
   "execution_count": null,
   "metadata": {},
   "outputs": [],
   "source": [
    "# Load objects from CSV\n",
    "with open(\"IPaddresses.csv\", \"r\", encoding=\"UTF8\", newline=\"\") as csv_file:\n",
    "    list_of_objects = list(csv.DictReader(csv_file))\n",
    "\n",
    "# Common constants\n",
    "PREFIX = \"BFA_\"  # Prefix for all objects\n",
    "COMMON_DESCRIPTION = \"Created by Integrity360 Sophos Firewall API\""
   ]
  },
  {
   "cell_type": "code",
   "execution_count": null,
   "metadata": {},
   "outputs": [],
   "source": [
    "# Create IPHostGroup\n",
    "ip_host_group_name = f\"{PREFIX}Brute-force attack Group\"\n",
    "create_entity(\n",
    "    firewall,\n",
    "    \"IPHostGroup\",\n",
    "    {\n",
    "        \"Name\": ip_host_group_name,\n",
    "        \"IPFamily\": \"IPv4\",\n",
    "        \"Description\": COMMON_DESCRIPTION,\n",
    "    },\n",
    ")"
   ]
  },
  {
   "cell_type": "code",
   "execution_count": null,
   "metadata": {},
   "outputs": [],
   "source": [
    "# Process each object from the CSV\n",
    "for item in list_of_objects:\n",
    "    entity_type = None\n",
    "    entity_data = {}\n",
    "\n",
    "    if item[\"type\"] == \"ipv4\":\n",
    "        entity_type = \"IPHost\"\n",
    "        entity_data[\"IPFamily\"] = \"IPv4\"\n",
    "\n",
    "        if \"-\" in item[\"data\"]:  # IP range\n",
    "            start_ip, end_ip = item[\"data\"].replace(\" \", \"\").split(\"-\")\n",
    "            entity_data.update(\n",
    "                {\n",
    "                    \"Name\": f\"{PREFIX}IPR_{item['data']}\",\n",
    "                    \"HostType\": \"IPRange\",\n",
    "                    \"StartIPAddress\": start_ip,\n",
    "                    \"EndIPAddress\": end_ip,\n",
    "                }\n",
    "            )\n",
    "        else:  # Single IP or Network\n",
    "            network = ipaddress.IPv4Network(item[\"data\"])\n",
    "            if str(network.netmask) == \"255.255.255.255\":  # Single IP\n",
    "                entity_data.update(\n",
    "                    {\n",
    "                        \"Name\": f\"{PREFIX}IPH_{item['data']}\",\n",
    "                        \"HostType\": \"IP\",\n",
    "                        \"IPAddress\": str(network.network_address),\n",
    "                    }\n",
    "                )\n",
    "            else:  # Network\n",
    "                entity_data.update(\n",
    "                    {\n",
    "                        \"Name\": f\"{PREFIX}IPNW_{item['data']}\",\n",
    "                        \"HostType\": \"Network\",\n",
    "                        \"IPAddress\": str(network.network_address),\n",
    "                        \"Subnet\": str(network.netmask),\n",
    "                    }\n",
    "                )\n",
    "\n",
    "        entity_data[\"HostGroupList\"] = {\"HostGroup\": ip_host_group_name}\n",
    "\n",
    "    else:\n",
    "        print(f\"Unsupported type: {item['type']} - Skipping item.\")\n",
    "        continue  # Skip unsupported types\n",
    "\n",
    "    # Add common properties and create entity\n",
    "    entity_data[\"Description\"] = COMMON_DESCRIPTION\n",
    "    create_entity(firewall, entity_type, entity_data, print_data=True)"
   ]
  },
  {
   "cell_type": "code",
   "execution_count": null,
   "metadata": {},
   "outputs": [],
   "source": [
    "entity_type = \"LocalServiceACL\"\n",
    "rule_name = f\"{PREFIX}Brute-force attack ACL\""
   ]
  },
  {
   "cell_type": "code",
   "execution_count": null,
   "metadata": {},
   "outputs": [],
   "source": [
    "entity_data = {\n",
    "    \"RuleName\": rule_name,\n",
    "    \"Description\": \"Added according to Sophos recommendations: https://support.sophos.com/support/s/article/KBA-000009932\",\n",
    "    \"Position\": \"Top\",\n",
    "    \"IPFamily\": \"IPv4\",\n",
    "    \"SourceZone\": \"WAN\",\n",
    "    \"Hosts\": {\"Host\": ip_host_group_name},\n",
    "    \"Services\": {\n",
    "        \"Service\": [\n",
    "            \"HTTPS\",\n",
    "            \"SSH\",\n",
    "            \"DNS\",\n",
    "            \"Ping\",\n",
    "            \"SSLVPN\",\n",
    "            \"SNMP\",\n",
    "            \"IPsec\",\n",
    "            \"SMTPRelay\",\n",
    "            \"RED\",\n",
    "            \"UserPortal\",\n",
    "            \"DynamicRouting\",\n",
    "            \"VPNPortal\",\n",
    "            \"40\",\n",
    "        ]\n",
    "    },\n",
    "    \"Action\": \"drop\",\n",
    "}\n",
    "\n",
    "create_entity(firewall, entity_type, entity_data, print_data=True)"
   ]
  },
  {
   "cell_type": "code",
   "execution_count": null,
   "metadata": {},
   "outputs": [],
   "source": [
    "entity_name = rule_name\n",
    "entity_type = \"LocalServiceACL\"\n",
    "read_entity(firewall, entity_type, entity_name, print_data=True)"
   ]
  },
  {
   "cell_type": "code",
   "execution_count": null,
   "metadata": {},
   "outputs": [],
   "source": [
    "for item in enumerate(read_entity(firewall, \"LocalServiceACL\", print_data=True).get('data',[])):\n",
    "    print(item)\n"
   ]
  },
  {
   "cell_type": "code",
   "execution_count": null,
   "metadata": {},
   "outputs": [],
   "source": [
    "firewall.read(\"LocalServiceACL\", f\"{PREFIX}\", filter_selector=LIKE)"
   ]
  },
  {
   "cell_type": "code",
   "execution_count": null,
   "metadata": {},
   "outputs": [],
   "source": [
    "#\n",
    "#   DELETE\n",
    "#\n",
    "# firewall = Firewall(username, password, firewall_ip, port, certificate_verify, password_encrypted)\n",
    "#\n",
    "\n",
    "entity_name = rule_name\n",
    "entity_type = \"LocalServiceACL\"\n",
    "delete_entity(firewall, entity_type, entity_name,EQ, print_data=True)"
   ]
  },
  {
   "cell_type": "code",
   "execution_count": null,
   "metadata": {},
   "outputs": [],
   "source": [
    "entity_name = \"BFA_\"\n",
    "\n",
    "entity_type = \"LocalServiceACL\"\n",
    "delete_entity(firewall, entity_type, entity_name, LIKE, print_data=True)\n"
   ]
  },
  {
   "cell_type": "code",
   "execution_count": null,
   "metadata": {},
   "outputs": [],
   "source": [
    "\n",
    "entity_type = \"IPHostGroup\"\n",
    "delete_entity(firewall, entity_type, entity_name, LIKE, print_data=True)\n",
    "\n",
    "entity_type = \"IPHost\"\n",
    "delete_entity(firewall, entity_type, entity_name, LIKE, print_data=True)"
   ]
  }
 ],
 "metadata": {
  "kernelspec": {
   "display_name": "Python 3",
   "language": "python",
   "name": "python3"
  },
  "language_info": {
   "codemirror_mode": {
    "name": "ipython",
    "version": 3
   },
   "file_extension": ".py",
   "mimetype": "text/x-python",
   "name": "python",
   "nbconvert_exporter": "python",
   "pygments_lexer": "ipython3",
   "version": "3.12.6"
  }
 },
 "nbformat": 4,
 "nbformat_minor": 2
}
