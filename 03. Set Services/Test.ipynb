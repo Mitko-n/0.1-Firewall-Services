{
 "cells": [
  {
   "cell_type": "code",
   "execution_count": null,
   "metadata": {},
   "outputs": [],
   "source": [
    "import sys\n",
    "sys.path.insert(0, 'C:/Users/Mitko.Nikolov/OneDrive - Integrity360/Documents/Code/0.1 Firewall Services')\n",
    "\n",
    "from firewall_api import Firewall, LIKE, EQ, NOT\n",
    "import json\n",
    "import ipaddress\n",
    "import csv\n",
    "\n",
    "# Load Firewall Credentials\n",
    "with open(\"../Credentials/firewall_access.json\", \"r\") as file:\n",
    "    firewall_info = json.load(file)\n",
    "\n",
    "firewall = Firewall(\n",
    "    username=firewall_info[\"username\"],\n",
    "    password=firewall_info[\"password\"],\n",
    "    hostname=firewall_info[\"firewall_ip\"],\n",
    "    port=firewall_info[\"port\"],\n",
    "    certificate_verify=False,\n",
    "    password_encrypted=firewall_info[\"password_encrypted\"],\n",
    ")\n",
    "\n",
    "# Test connection\n",
    "print(f\"Connection Test ::  {firewall.read(\"Login\")}\\n\")"
   ]
  },
  {
   "cell_type": "code",
   "execution_count": null,
   "metadata": {},
   "outputs": [],
   "source": [
    "firewall.read(\"Services\")"
   ]
  },
  {
   "cell_type": "code",
   "execution_count": null,
   "metadata": {},
   "outputs": [],
   "source": [
    "firewall.read(\"IPHost\",\"_\",NOT)"
   ]
  },
  {
   "cell_type": "code",
   "execution_count": null,
   "metadata": {},
   "outputs": [],
   "source": [
    "data=[{\n",
    "    \"Name\": \"test service TCP/UDP\",\n",
    "    \"Description\": \"None\",\n",
    "    \"Type\": \"TCPorUDP\",\n",
    "    \"ServiceDetails\": {\n",
    "        \"ServiceDetail\": [\n",
    "            {\n",
    "                \"SourcePort\": \"1: 65535\",\n",
    "                \"DestinationPort\": \"1\",\n",
    "                \"Protocol\": \"TCP\"\n",
    "            },\n",
    "            {\n",
    "                \"SourcePort\": \"1: 65535\",\n",
    "                \"DestinationPort\": \"1\",\n",
    "                \"Protocol\": \"UDP\"\n",
    "            },\n",
    "            {\n",
    "                \"SourcePort\": \"1: 65535\",\n",
    "                \"DestinationPort\": \"2\",\n",
    "                \"Protocol\": \"TCP\"\n",
    "            },\n",
    "            {\n",
    "                \"SourcePort\": \"1: 65535\",\n",
    "                \"DestinationPort\": \"2\",\n",
    "                \"Protocol\": \"UDP\"\n",
    "            }\n",
    "        ]\n",
    "    }\n",
    "},\n",
    "{\n",
    "    \"Name\": \"test service TCP/UDP one\",\n",
    "    \"Description\": \"None\",\n",
    "    \"Type\": \"TCPorUDP\",\n",
    "    \"ServiceDetails\": {\n",
    "        \"ServiceDetail\": {\n",
    "            \"SourcePort\": \"1: 65535\",\n",
    "            \"DestinationPort\": \"1\",\n",
    "            \"Protocol\": \"TCP\"\n",
    "        }\n",
    "    }\n",
    "},\n",
    "{\n",
    "    \"Name\": \"test service TCP/UDP one range\",\n",
    "    \"Description\": \"None\",\n",
    "    \"Type\": \"TCPorUDP\",\n",
    "    \"ServiceDetails\": {\n",
    "        \"ServiceDetail\": {\n",
    "            \"SourcePort\": \"1: 65535\",\n",
    "            \"DestinationPort\": \"1: 123\",\n",
    "            \"Protocol\": \"TCP\"\n",
    "        }\n",
    "    }\n",
    "},\n",
    "{\n",
    "    \"Name\": \"test service TCP/UDP one range multy\",\n",
    "    \"Description\": \"None\",\n",
    "    \"Type\": \"TCPorUDP\",\n",
    "    \"ServiceDetails\": {\n",
    "        \"ServiceDetail\": [\n",
    "            {\n",
    "                \"SourcePort\": \"1: 65535\",\n",
    "                \"DestinationPort\": \"1: 123\",\n",
    "                \"Protocol\": \"TCP\"\n",
    "            },\n",
    "            {\n",
    "                \"SourcePort\": \"1: 65535\",\n",
    "                \"DestinationPort\": \"2: 890\",\n",
    "                \"Protocol\": \"UDP\"\n",
    "            }\n",
    "        ]\n",
    "    }\n",
    "}]"
   ]
  },
  {
   "cell_type": "code",
   "execution_count": null,
   "metadata": {},
   "outputs": [],
   "source": [
    "\n",
    "for item in data:\n",
    "    print(item)\n",
    "    print(firewall.create(\"Services\", item))"
   ]
  },
  {
   "cell_type": "code",
   "execution_count": null,
   "metadata": {},
   "outputs": [],
   "source": [
    "firewall.delete(\"Services\",\"test\",LIKE)"
   ]
  }
 ],
 "metadata": {
  "kernelspec": {
   "display_name": "Python 3",
   "language": "python",
   "name": "python3"
  },
  "language_info": {
   "codemirror_mode": {
    "name": "ipython",
    "version": 3
   },
   "file_extension": ".py",
   "mimetype": "text/x-python",
   "name": "python",
   "nbconvert_exporter": "python",
   "pygments_lexer": "ipython3",
   "version": "3.12.6"
  }
 },
 "nbformat": 4,
 "nbformat_minor": 2
}
