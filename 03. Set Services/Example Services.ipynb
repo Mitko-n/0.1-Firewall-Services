{
 "cells": [
  {
   "cell_type": "code",
   "execution_count": null,
   "metadata": {},
   "outputs": [],
   "source": [
    "import configparser\n",
    "import os\n",
    "import sys\n",
    "import csv\n",
    "import ipaddress\n",
    "\n",
    "sys.path.insert(0, os.path.dirname(os.getcwd()))  # For Notebook\n",
    "\n",
    "from firewall_api import Firewall, LIKE, EQ, NOT\n",
    "\n",
    "# Read configuration\n",
    "config = configparser.ConfigParser(interpolation=None)\n",
    "config.read('../Credentials/config.ini')\n",
    "\n",
    "# Get firewall credentials from config\n",
    "username = config['Firewall']['username']\n",
    "password = config['Firewall']['password']\n",
    "firewall_ip = config['Firewall']['firewall_ip']\n",
    "port = config['Firewall'].getint('port', fallback=4444)\n",
    "certificate_verify = config['Firewall'].getboolean('certificate_verify', fallback=False)\n",
    "timeout = config['Firewall'].getint('timeout', fallback=30)\n",
    "\n",
    "firewall = Firewall(username, password, firewall_ip, port, certificate_verify, timeout)\n"
   ]
  },
  {
   "cell_type": "code",
   "execution_count": null,
   "metadata": {},
   "outputs": [],
   "source": [
    "firewall.read(\"Services\")"
   ]
  },
  {
   "cell_type": "code",
   "execution_count": 3,
   "metadata": {},
   "outputs": [],
   "source": [
    "data = [\n",
    "    {\n",
    "        \"Name\": \"test service TCP/UDP\",\n",
    "        \"Description\": \"None\",\n",
    "        \"Type\": \"TCPorUDP\",\n",
    "        \"ServiceDetails\": {\n",
    "            \"ServiceDetail\": [\n",
    "                {\"SourcePort\": \"1: 65535\", \"DestinationPort\": \"1\", \"Protocol\": \"TCP\"},\n",
    "                {\"SourcePort\": \"1: 65535\", \"DestinationPort\": \"1\", \"Protocol\": \"UDP\"},\n",
    "                {\"SourcePort\": \"1: 65535\", \"DestinationPort\": \"2\", \"Protocol\": \"TCP\"},\n",
    "                {\"SourcePort\": \"1: 65535\", \"DestinationPort\": \"2\", \"Protocol\": \"UDP\"},\n",
    "            ]\n",
    "        },\n",
    "    },\n",
    "    {\n",
    "        \"Name\": \"test service TCP/UDP one\",\n",
    "        \"Description\": \"None\",\n",
    "        \"Type\": \"TCPorUDP\",\n",
    "        \"ServiceDetails\": {\"ServiceDetail\": {\"SourcePort\": \"1:65535\", \"DestinationPort\": \"1\", \"Protocol\": \"TCP\"}},\n",
    "    },\n",
    "    {\n",
    "        \"Name\": \"test service TCP/UDP one range\",\n",
    "        \"Description\": \"None\",\n",
    "        \"Type\": \"TCPorUDP\",\n",
    "        \"ServiceDetails\": {\"ServiceDetail\": {\"SourcePort\": \"1: 65535\", \"DestinationPort\": \"1: 123\", \"Protocol\": \"TCP\"}},\n",
    "    },\n",
    "    {\n",
    "        \"Name\": \"test service TCP/UDP one range multy\",\n",
    "        \"Description\": \"None\",\n",
    "        \"Type\": \"TCPorUDP\",\n",
    "        \"ServiceDetails\": {\n",
    "            \"ServiceDetail\": [\n",
    "                {\"SourcePort\": \"1:             65535\", \"DestinationPort\": \"1     : 123\", \"Protocol\": \"TCP\"},\n",
    "                {\"SourcePort\": \"1        : 65535\", \"DestinationPort\": \"2          :             890\", \"Protocol\": \"UDP\"},\n",
    "            ]\n",
    "        },\n",
    "    },\n",
    "]"
   ]
  },
  {
   "cell_type": "code",
   "execution_count": null,
   "metadata": {},
   "outputs": [],
   "source": [
    "for item in data:\n",
    "    print(firewall.create(\"Services\", item))"
   ]
  },
  {
   "cell_type": "code",
   "execution_count": 7,
   "metadata": {},
   "outputs": [],
   "source": [
    "for i, item in enumerate(firewall.read(\"Services\", \"test\", LIKE)[\"data\"], 1):\n",
    "    print(f\"{i} :: {item}\")"
   ]
  },
  {
   "cell_type": "code",
   "execution_count": null,
   "metadata": {},
   "outputs": [],
   "source": [
    "firewall.delete(\"Services\", \"test\", LIKE)"
   ]
  }
 ],
 "metadata": {
  "kernelspec": {
   "display_name": "Python 3",
   "language": "python",
   "name": "python3"
  },
  "language_info": {
   "codemirror_mode": {
    "name": "ipython",
    "version": 3
   },
   "file_extension": ".py",
   "mimetype": "text/x-python",
   "name": "python",
   "nbconvert_exporter": "python",
   "pygments_lexer": "ipython3",
   "version": "3.12.10"
  }
 },
 "nbformat": 4,
 "nbformat_minor": 2
}
