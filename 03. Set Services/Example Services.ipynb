{
 "cells": [
  {
   "cell_type": "code",
   "execution_count": null,
   "metadata": {},
   "outputs": [],
   "source": [
    "import os\n",
    "import sys\n",
    "\n",
    "sys.path.insert(0, os.path.dirname(os.getcwd()))\n",
    "\n",
    "from firewall_api.FirewallAPI import *\n",
    "import json\n",
    "\n",
    "# Load Firewall Credentials\n",
    "with open(\"../Credentials/firewall_access.json\", \"r\") as file:\n",
    "    firewall_info = json.load(file)\n",
    "\n",
    "firewall = Firewall(\n",
    "    username=firewall_info[\"username\"],\n",
    "    password=firewall_info[\"password\"],\n",
    "    hostname=firewall_info[\"firewall_ip\"],\n",
    "    port=firewall_info[\"port\"],\n",
    "    certificate_verify=False,\n",
    ")\n",
    "\n",
    "# Test connection\n",
    "print(f\"Connection Test ::  {firewall.read(\"Login\")}\\n\")"
   ]
  },
  {
   "cell_type": "code",
   "execution_count": null,
   "metadata": {},
   "outputs": [],
   "source": [
    "firewall.read(\"Services\")"
   ]
  },
  {
   "cell_type": "code",
   "execution_count": 3,
   "metadata": {},
   "outputs": [],
   "source": [
    "data = [\n",
    "    {\n",
    "        \"Name\": \"test service TCP/UDP\",\n",
    "        \"Description\": \"None\",\n",
    "        \"Type\": \"TCPorUDP\",\n",
    "        \"ServiceDetails\": {\n",
    "            \"ServiceDetail\": [\n",
    "                {\"SourcePort\": \"1: 65535\", \"DestinationPort\": \"1\", \"Protocol\": \"TCP\"},\n",
    "                {\"SourcePort\": \"1: 65535\", \"DestinationPort\": \"1\", \"Protocol\": \"UDP\"},\n",
    "                {\"SourcePort\": \"1: 65535\", \"DestinationPort\": \"2\", \"Protocol\": \"TCP\"},\n",
    "                {\"SourcePort\": \"1: 65535\", \"DestinationPort\": \"2\", \"Protocol\": \"UDP\"},\n",
    "            ]\n",
    "        },\n",
    "    },\n",
    "    {\n",
    "        \"Name\": \"test service TCP/UDP one\",\n",
    "        \"Description\": \"None\",\n",
    "        \"Type\": \"TCPorUDP\",\n",
    "        \"ServiceDetails\": {\"ServiceDetail\": {\"SourcePort\": \"1:65535\", \"DestinationPort\": \"1\", \"Protocol\": \"TCP\"}},\n",
    "    },\n",
    "    {\n",
    "        \"Name\": \"test service TCP/UDP one range\",\n",
    "        \"Description\": \"None\",\n",
    "        \"Type\": \"TCPorUDP\",\n",
    "        \"ServiceDetails\": {\"ServiceDetail\": {\"SourcePort\": \"1: 65535\", \"DestinationPort\": \"1: 123\", \"Protocol\": \"TCP\"}},\n",
    "    },\n",
    "    {\n",
    "        \"Name\": \"test service TCP/UDP one range multy\",\n",
    "        \"Description\": \"None\",\n",
    "        \"Type\": \"TCPorUDP\",\n",
    "        \"ServiceDetails\": {\n",
    "            \"ServiceDetail\": [\n",
    "                {\"SourcePort\": \"1:             65535\", \"DestinationPort\": \"1     : 123\", \"Protocol\": \"TCP\"},\n",
    "                {\"SourcePort\": \"1        : 65535\", \"DestinationPort\": \"2          :             890\", \"Protocol\": \"UDP\"},\n",
    "            ]\n",
    "        },\n",
    "    },\n",
    "]"
   ]
  },
  {
   "cell_type": "code",
   "execution_count": null,
   "metadata": {},
   "outputs": [],
   "source": [
    "for item in data:\n",
    "    print(firewall.create(\"Services\", item))"
   ]
  },
  {
   "cell_type": "code",
   "execution_count": 7,
   "metadata": {},
   "outputs": [],
   "source": [
    "for i, item in enumerate(firewall.read(\"Services\", \"test\", LIKE)[\"data\"], 1):\n",
    "    print(f\"{i} :: {item}\")"
   ]
  },
  {
   "cell_type": "code",
   "execution_count": null,
   "metadata": {},
   "outputs": [],
   "source": [
    "firewall.delete(\"Services\", \"test\", LIKE)"
   ]
  }
 ],
 "metadata": {
  "kernelspec": {
   "display_name": "Python 3",
   "language": "python",
   "name": "python3"
  },
  "language_info": {
   "codemirror_mode": {
    "name": "ipython",
    "version": 3
   },
   "file_extension": ".py",
   "mimetype": "text/x-python",
   "name": "python",
   "nbconvert_exporter": "python",
   "pygments_lexer": "ipython3",
   "version": "3.12.6"
  }
 },
 "nbformat": 4,
 "nbformat_minor": 2
}
