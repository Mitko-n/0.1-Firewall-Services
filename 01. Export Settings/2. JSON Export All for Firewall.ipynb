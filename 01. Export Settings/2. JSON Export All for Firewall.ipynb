{
 "cells": [
  {
   "cell_type": "code",
   "execution_count": null,
   "metadata": {},
   "outputs": [],
   "source": [
    "import configparser\n",
    "import os\n",
    "import sys\n",
    "import json\n",
    "\n",
    "sys.path.insert(0, os.path.dirname(os.getcwd()))  # For Notebook\n",
    "\n",
    "from firewall_api import Firewall, LIKE, EQ, NOT\n",
    "\n",
    "# Read configuration\n",
    "config = configparser.ConfigParser(interpolation=None)\n",
    "config.read('../Credentials/config.ini')\n",
    "\n",
    "# Get firewall credentials from config\n",
    "username = config['Firewall']['username']\n",
    "password = config['Firewall']['password']\n",
    "firewall_ip = config['Firewall']['firewall_ip']\n",
    "port = config['Firewall'].getint('port', fallback=4444)\n",
    "certificate_verify = config['Firewall'].getboolean('certificate_verify', fallback=False)\n",
    "\n",
    "firewall = Firewall(username, password, firewall_ip, port, certificate_verify)\n"
   ]
  },
  {
   "cell_type": "markdown",
   "metadata": {},
   "source": [
    "##### Login Check"
   ]
  },
  {
   "cell_type": "code",
   "execution_count": null,
   "metadata": {},
   "outputs": [],
   "source": [
    "firewall.read(\"Login\")"
   ]
  },
  {
   "cell_type": "code",
   "execution_count": null,
   "metadata": {},
   "outputs": [],
   "source": [
    "customer_field = \"Customer\"\n",
    "customer_name = \"GW LAB\"\n",
    "exports_path = \"JSON\\\\\" + customer_name\n",
    "\n",
    "if not os.path.exists(exports_path):    \n",
    "    os.makedirs(exports_path)\n",
    "    \n"
   ]
  },
  {
   "cell_type": "code",
   "execution_count": null,
   "metadata": {},
   "outputs": [],
   "source": [
    "with open(\"Imports.csv\", \"r\",) as file:\n",
    "        export_items = file.read().split('\\n')"
   ]
  },
  {
   "cell_type": "code",
   "execution_count": null,
   "metadata": {},
   "outputs": [],
   "source": [
    "for export_item in export_items:\n",
    "\n",
    "    print(export_item)\n",
    "\n",
    "    if export_item =='### END ###':\n",
    "        break\n",
    "\n",
    "    responses = firewall.read(export_item)\n",
    "\n",
    "    with open(f\"{exports_path}\\\\{customer_name}_{export_item}.json\", \"w\") as json_file:\n",
    "        json.dump(responses['data'], json_file, indent=4)\n"
   ]
  },
  {
   "cell_type": "raw",
   "metadata": {
    "vscode": {
     "languageId": "raw"
    }
   },
   "source": [
    "#### Extract IP Address from Interface and Aliases\n",
    "\n",
    "import json\n",
    "import ipaddress\n",
    "\n",
    "with open(f\"Json_Exports\\Alias.json\", \"r\") as json_file:\n",
    "    jsondata = json.load(json_file)\n",
    "\n",
    "alias = []\n",
    "\n",
    "for item in jsondata:\n",
    "    alias.append(item['IPAddress'])\n",
    "\n",
    "with open(f\"Json_Exports\\Interface.json\", \"r\") as json_file:\n",
    "    jsondata = json.load(json_file)\n",
    "\n",
    "addres = []\n",
    "\n",
    "for item in jsondata:\n",
    "    if item['IPv4Configuration'] == 'Enable':\n",
    "        addres.append(item['IPAddress'])\n",
    "\n",
    "alias = alias+addres\n",
    "\n",
    "# Remove Duplicates\n",
    "# result = []\n",
    "# [result.append(x) for x in alias if x not in result] \n",
    "\n",
    "alias = list(set(alias))\n",
    "alias.remove('')\n",
    "sorted(alias, key=ipaddress.IPv4Address)\n"
   ]
  }
 ],
 "metadata": {
  "kernelspec": {
   "display_name": "Python 3",
   "language": "python",
   "name": "python3"
  },
  "language_info": {
   "codemirror_mode": {
    "name": "ipython",
    "version": 3
   },
   "file_extension": ".py",
   "mimetype": "text/x-python",
   "name": "python",
   "nbconvert_exporter": "python",
   "pygments_lexer": "ipython3",
   "version": "3.12.10"
  }
 },
 "nbformat": 4,
 "nbformat_minor": 2
}
