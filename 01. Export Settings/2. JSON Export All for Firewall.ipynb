{
 "cells": [
  {
   "cell_type": "code",
   "execution_count": 1,
   "metadata": {},
   "outputs": [
    {
     "name": "stdout",
     "output_type": "stream",
     "text": [
      "UserWarning: Certificate verification is disabled. For production environments,\n",
      " it's recommended to use proper SSL certificates instead of disabling verification.\n"
     ]
    }
   ],
   "source": [
    "import configparser\n",
    "import os\n",
    "import sys\n",
    "import json\n",
    "\n",
    "sys.path.insert(0, os.path.dirname(os.getcwd()))  # For Notebook\n",
    "\n",
    "from firewall_api import Firewall, LIKE, EQ, NOT\n",
    "\n",
    "# Read configuration\n",
    "config = configparser.ConfigParser(interpolation=None)\n",
    "config.read('../Credentials/config.ini')\n",
    "\n",
    "# Get firewall credentials from config\n",
    "username = config['Firewall']['username']\n",
    "password = config['Firewall']['password']\n",
    "firewall_ip = config['Firewall']['firewall_ip']\n",
    "port = config['Firewall'].getint('port', fallback=4444)\n",
    "certificate_verify = config['Firewall'].getboolean('certificate_verify', fallback=False)\n",
    "\n",
    "firewall = Firewall(username, password, firewall_ip, port, certificate_verify)\n"
   ]
  },
  {
   "cell_type": "markdown",
   "metadata": {},
   "source": [
    "##### Login Check"
   ]
  },
  {
   "cell_type": "code",
   "execution_count": 2,
   "metadata": {},
   "outputs": [
    {
     "data": {
      "text/plain": [
       "{'status': '216',\n",
       " 'message': 'Operation completed successfully.',\n",
       " 'data': [{'status': 'Authentication Successful'}]}"
      ]
     },
     "execution_count": 2,
     "metadata": {},
     "output_type": "execute_result"
    }
   ],
   "source": [
    "firewall.read(\"Login\")"
   ]
  },
  {
   "cell_type": "code",
   "execution_count": 3,
   "metadata": {},
   "outputs": [],
   "source": [
    "customer_field = \"Customer\"\n",
    "customer_name = \"GW LAB\"\n",
    "exports_path = \"JSON\\\\\" + customer_name\n",
    "\n",
    "if not os.path.exists(exports_path):    \n",
    "    os.makedirs(exports_path)\n",
    "    \n"
   ]
  },
  {
   "cell_type": "code",
   "execution_count": 4,
   "metadata": {},
   "outputs": [
    {
     "ename": "FileNotFoundError",
     "evalue": "[Errno 2] No such file or directory: 'Imports.csv'",
     "output_type": "error",
     "traceback": [
      "\u001b[1;31m---------------------------------------------------------------------------\u001b[0m",
      "\u001b[1;31mFileNotFoundError\u001b[0m                         Traceback (most recent call last)",
      "Cell \u001b[1;32mIn[4], line 1\u001b[0m\n\u001b[1;32m----> 1\u001b[0m \u001b[38;5;28;01mwith\u001b[39;00m \u001b[38;5;28;43mopen\u001b[39;49m\u001b[43m(\u001b[49m\u001b[38;5;124;43m\"\u001b[39;49m\u001b[38;5;124;43mImports.csv\u001b[39;49m\u001b[38;5;124;43m\"\u001b[39;49m\u001b[43m,\u001b[49m\u001b[43m \u001b[49m\u001b[38;5;124;43m\"\u001b[39;49m\u001b[38;5;124;43mr\u001b[39;49m\u001b[38;5;124;43m\"\u001b[39;49m\u001b[43m,\u001b[49m\u001b[43m)\u001b[49m \u001b[38;5;28;01mas\u001b[39;00m file:\n\u001b[0;32m      2\u001b[0m         export_items \u001b[38;5;241m=\u001b[39m file\u001b[38;5;241m.\u001b[39mread()\u001b[38;5;241m.\u001b[39msplit(\u001b[38;5;124m'\u001b[39m\u001b[38;5;130;01m\\n\u001b[39;00m\u001b[38;5;124m'\u001b[39m)\n",
      "File \u001b[1;32mc:\\Users\\Mitko.Nikolov\\AppData\\Local\\Programs\\Python\\Python312\\Lib\\site-packages\\IPython\\core\\interactiveshell.py:324\u001b[0m, in \u001b[0;36m_modified_open\u001b[1;34m(file, *args, **kwargs)\u001b[0m\n\u001b[0;32m    317\u001b[0m \u001b[38;5;28;01mif\u001b[39;00m file \u001b[38;5;129;01min\u001b[39;00m {\u001b[38;5;241m0\u001b[39m, \u001b[38;5;241m1\u001b[39m, \u001b[38;5;241m2\u001b[39m}:\n\u001b[0;32m    318\u001b[0m     \u001b[38;5;28;01mraise\u001b[39;00m \u001b[38;5;167;01mValueError\u001b[39;00m(\n\u001b[0;32m    319\u001b[0m         \u001b[38;5;124mf\u001b[39m\u001b[38;5;124m\"\u001b[39m\u001b[38;5;124mIPython won\u001b[39m\u001b[38;5;124m'\u001b[39m\u001b[38;5;124mt let you open fd=\u001b[39m\u001b[38;5;132;01m{\u001b[39;00mfile\u001b[38;5;132;01m}\u001b[39;00m\u001b[38;5;124m by default \u001b[39m\u001b[38;5;124m\"\u001b[39m\n\u001b[0;32m    320\u001b[0m         \u001b[38;5;124m\"\u001b[39m\u001b[38;5;124mas it is likely to crash IPython. If you know what you are doing, \u001b[39m\u001b[38;5;124m\"\u001b[39m\n\u001b[0;32m    321\u001b[0m         \u001b[38;5;124m\"\u001b[39m\u001b[38;5;124myou can use builtins\u001b[39m\u001b[38;5;124m'\u001b[39m\u001b[38;5;124m open.\u001b[39m\u001b[38;5;124m\"\u001b[39m\n\u001b[0;32m    322\u001b[0m     )\n\u001b[1;32m--> 324\u001b[0m \u001b[38;5;28;01mreturn\u001b[39;00m \u001b[43mio_open\u001b[49m\u001b[43m(\u001b[49m\u001b[43mfile\u001b[49m\u001b[43m,\u001b[49m\u001b[43m \u001b[49m\u001b[38;5;241;43m*\u001b[39;49m\u001b[43margs\u001b[49m\u001b[43m,\u001b[49m\u001b[43m \u001b[49m\u001b[38;5;241;43m*\u001b[39;49m\u001b[38;5;241;43m*\u001b[39;49m\u001b[43mkwargs\u001b[49m\u001b[43m)\u001b[49m\n",
      "\u001b[1;31mFileNotFoundError\u001b[0m: [Errno 2] No such file or directory: 'Imports.csv'"
     ]
    }
   ],
   "source": [
    "with open(\"Imports.csv\", \"r\",) as file:\n",
    "        export_items = file.read().split('\\n')"
   ]
  },
  {
   "cell_type": "code",
   "execution_count": null,
   "metadata": {},
   "outputs": [],
   "source": [
    "for export_item in export_items:\n",
    "\n",
    "    print(export_item)\n",
    "\n",
    "    if export_item =='### END ###':\n",
    "        break\n",
    "\n",
    "    responses = firewall.read(export_item)\n",
    "\n",
    "    with open(f\"{exports_path}\\\\{customer_name}_{export_item}.json\", \"w\") as json_file:\n",
    "        json.dump(responses['data'], json_file, indent=4)\n"
   ]
  },
  {
   "cell_type": "raw",
   "metadata": {
    "vscode": {
     "languageId": "raw"
    }
   },
   "source": [
    "#### Extract IP Address from Interface and Aliases\n",
    "\n",
    "import json\n",
    "import ipaddress\n",
    "\n",
    "with open(f\"Json_Exports\\Alias.json\", \"r\") as json_file:\n",
    "    jsondata = json.load(json_file)\n",
    "\n",
    "alias = []\n",
    "\n",
    "for item in jsondata:\n",
    "    alias.append(item['IPAddress'])\n",
    "\n",
    "with open(f\"Json_Exports\\Interface.json\", \"r\") as json_file:\n",
    "    jsondata = json.load(json_file)\n",
    "\n",
    "addres = []\n",
    "\n",
    "for item in jsondata:\n",
    "    if item['IPv4Configuration'] == 'Enable':\n",
    "        addres.append(item['IPAddress'])\n",
    "\n",
    "alias = alias+addres\n",
    "\n",
    "# Remove Duplicates\n",
    "# result = []\n",
    "# [result.append(x) for x in alias if x not in result] \n",
    "\n",
    "alias = list(set(alias))\n",
    "alias.remove('')\n",
    "sorted(alias, key=ipaddress.IPv4Address)\n"
   ]
  }
 ],
 "metadata": {
  "kernelspec": {
   "display_name": "Python 3",
   "language": "python",
   "name": "python3"
  },
  "language_info": {
   "codemirror_mode": {
    "name": "ipython",
    "version": 3
   },
   "file_extension": ".py",
   "mimetype": "text/x-python",
   "name": "python",
   "nbconvert_exporter": "python",
   "pygments_lexer": "ipython3",
   "version": "3.12.10"
  }
 },
 "nbformat": 4,
 "nbformat_minor": 2
}
