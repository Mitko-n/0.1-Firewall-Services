{
 "cells": [
  {
   "attachments": {},
   "cell_type": "markdown",
   "metadata": {},
   "source": [
    "#### Imports"
   ]
  },
  {
   "cell_type": "code",
   "execution_count": null,
   "metadata": {},
   "outputs": [],
   "source": [
    "import os\n",
    "import csv\n",
    "\n",
    "from FirewallAPI import Firewall, EQ, NOT, LIKE"
   ]
  },
  {
   "cell_type": "code",
   "execution_count": null,
   "metadata": {},
   "outputs": [],
   "source": [
    "def filter_responses(responses, requested_fields):\n",
    "    def extract_fields(data, fields):\n",
    "\n",
    "        if isinstance(data, dict):\n",
    "            result = {}\n",
    "            for field in fields:\n",
    "                keys = field.split(\".\")\n",
    "                value = data\n",
    "                for key in keys:\n",
    "                    if isinstance(value, dict) and key in value:\n",
    "                        value = value[key]\n",
    "                    else:\n",
    "                        value = None\n",
    "                        break\n",
    "                if value is not None:\n",
    "                    result[keys[-1]] = value\n",
    "            return result\n",
    "        return {}\n",
    "\n",
    "    # Apply extraction to each dictionary in the source list\n",
    "    filtered_responses_list = [extract_fields(item, requested_fields) for item in responses]\n",
    "    return filtered_responses_list"
   ]
  },
  {
   "cell_type": "code",
   "execution_count": null,
   "metadata": {},
   "outputs": [],
   "source": [
    "customer_field = \"Customer\"\n",
    "customer_name = \"GW LAB\"\n",
    "\n",
    "exports_path = \"Exports\\\\\" + customer_name\n",
    "\n",
    "if not os.path.exists(exports_path):\n",
    "    os.makedirs(exports_path)\n",
    "\n",
    "firewall_ip = \"172.16.17.30\"\n",
    "username = \"apiadmin\"\n",
    "password = \"883C4BBDEF0B32DA7176B651133A52C1F215E15696EFD7D3506EB924A0EC0097\"\n",
    "\n",
    "firewall = Firewall(username, password=password, hostname=firewall_ip, port=4444, certificate_verify=False, password_encrypted=True)"
   ]
  },
  {
   "cell_type": "markdown",
   "metadata": {},
   "source": [
    "##### Login Check"
   ]
  },
  {
   "cell_type": "code",
   "execution_count": null,
   "metadata": {},
   "outputs": [],
   "source": [
    "firewall.read(\"Login\")"
   ]
  },
  {
   "attachments": {},
   "cell_type": "markdown",
   "metadata": {},
   "source": [
    "##### Interface\n"
   ]
  },
  {
   "cell_type": "code",
   "execution_count": null,
   "metadata": {},
   "outputs": [],
   "source": [
    "entity_type = \"Interface\"\n",
    "\n",
    "requested_fields = [\"Customer\", \"Name\", \"Hardware\", \"NetworkZone\", \"IPAddress\", \"Netmask\", \"GatewayIP\", \"GatewayName\"]\n",
    "\n",
    "responses = firewall.read(entity_type)\n",
    "\n",
    "filtered_data = [{key: item.get(key, None) for key in requested_fields} | {\"Customer\": customer_name} for item in responses[\"data\"]]\n",
    "\n",
    "for item in filtered_data:\n",
    "    print(item)\n",
    "\n",
    "with open(f\"{exports_path}\\\\{customer_name}_{entity_type.upper()}.csv\", \"w\", encoding=\"UTF8\", newline=\"\") as csv_file:\n",
    "    writer = csv.DictWriter(csv_file, fieldnames=requested_fields, extrasaction=\"ignore\", restval=\"...\")\n",
    "    writer.writeheader()\n",
    "    writer.writerows(filtered_data)"
   ]
  },
  {
   "attachments": {},
   "cell_type": "markdown",
   "metadata": {},
   "source": [
    "### VLAN"
   ]
  },
  {
   "cell_type": "code",
   "execution_count": null,
   "metadata": {},
   "outputs": [],
   "source": [
    "entity_type = \"VLAN\"\n",
    "\n",
    "requested_fields = [\"Customer\", \"Name\", \"Hardware\", \"VLANID\", \"IPAddress\", \"Netmask\", \"NetworkZone\", \"GatewayIP\", \"GatewayName\"]\n",
    "\n",
    "responses = firewall.read(entity_type)\n",
    "\n",
    "filtered_data = [{key: item.get(key, None) for key in requested_fields} | {\"Customer\": customer_name} for item in responses[\"data\"]]\n",
    "\n",
    "# Output the filtered data\n",
    "for item in filtered_data:\n",
    "    print(item)\n",
    "\n",
    "with open(f\"{exports_path}\\\\{customer_name}_{entity_type.upper()}.csv\", \"w\", encoding=\"UTF8\", newline=\"\") as csv_file:\n",
    "    writer = csv.DictWriter(csv_file, fieldnames=requested_fields, extrasaction=\"ignore\", restval=\"...\")\n",
    "    writer.writeheader()\n",
    "    writer.writerows(filtered_data)"
   ]
  },
  {
   "attachments": {},
   "cell_type": "markdown",
   "metadata": {},
   "source": [
    "#### UnicastRoute"
   ]
  },
  {
   "cell_type": "code",
   "execution_count": null,
   "metadata": {},
   "outputs": [],
   "source": [
    "entity_type = \"UnicastRoute\"\n",
    "\n",
    "requested_fields = [\"Customer\", \"DestinationIP\", \"Netmask\", \"Gateway\", \"Interface\"]\n",
    "\n",
    "responses = firewall.read(entity_type)\n",
    "\n",
    "filtered_data = [{key: item.get(key, None) for key in requested_fields} | {\"Customer\": customer_name} for item in responses[\"data\"]]\n",
    "\n",
    "# Output the filtered data\n",
    "for item in filtered_data:\n",
    "    print(item)\n",
    "\n",
    "with open(f\"{exports_path}\\\\{customer_name}_{entity_type.upper()}.csv\", \"w\", encoding=\"UTF8\", newline=\"\") as csv_file:\n",
    "    writer = csv.DictWriter(csv_file, fieldnames=requested_fields, extrasaction=\"ignore\", restval=\"...\")\n",
    "    writer.writeheader()\n",
    "    writer.writerows(filtered_data)"
   ]
  },
  {
   "attachments": {},
   "cell_type": "markdown",
   "metadata": {},
   "source": [
    "#### Aliases"
   ]
  },
  {
   "cell_type": "code",
   "execution_count": null,
   "metadata": {},
   "outputs": [],
   "source": [
    "entity_type = \"Alias\"\n",
    "\n",
    "requested_fields = [\"Customer\", \"Interface\", \"Name\", \"IPAddress\", \"Netmask\"]\n",
    "\n",
    "responses = firewall.read(entity_type)\n",
    "\n",
    "filtered_data = [{key: item.get(key, None) for key in requested_fields} | {\"Customer\": customer_name} for item in responses[\"data\"]]\n",
    "\n",
    "# Output the filtered data\n",
    "for item in filtered_data:\n",
    "    print(item)\n",
    "\n",
    "with open(f\"{exports_path}\\\\{customer_name}_{entity_type.upper()}.csv\", \"w\", encoding=\"UTF8\", newline=\"\") as csv_file:\n",
    "    writer = csv.DictWriter(csv_file, fieldnames=requested_fields, extrasaction=\"ignore\", restval=\"...\")\n",
    "    writer.writeheader()\n",
    "    writer.writerows(filtered_data)"
   ]
  },
  {
   "attachments": {},
   "cell_type": "markdown",
   "metadata": {},
   "source": [
    "#### Wireless Networks"
   ]
  },
  {
   "cell_type": "code",
   "execution_count": null,
   "metadata": {},
   "outputs": [],
   "source": [
    "entity_type = \"WirelessNetworks\"\n",
    "\n",
    "\n",
    "requested_fields = [\"Customer\", \"Name\", \"SSID\", \"HardwareName\", \"SecurityMode\", \"ClientTraffic\", \"Zone\", \"IPAddress\", \"Netmask\", \"Status\"]\n",
    "\n",
    "responses = firewall.read(entity_type)\n",
    "\n",
    "filtered_data = [{key: item.get(key, None) for key in requested_fields} | {\"Customer\": customer_name} for item in responses[\"data\"]]\n",
    "\n",
    "# Output the filtered data\n",
    "for item in filtered_data:\n",
    "    print(item)\n",
    "\n",
    "with open(f\"{exports_path}\\\\{customer_name}_{entity_type.upper()}.csv\", \"w\", encoding=\"UTF8\", newline=\"\") as csv_file:\n",
    "    writer = csv.DictWriter(csv_file, fieldnames=requested_fields, extrasaction=\"ignore\", restval=\"...\")\n",
    "    writer.writeheader()\n",
    "    writer.writerows(filtered_data)"
   ]
  },
  {
   "cell_type": "markdown",
   "metadata": {},
   "source": [
    "#### Firewall Rule"
   ]
  },
  {
   "cell_type": "code",
   "execution_count": null,
   "metadata": {},
   "outputs": [],
   "source": [
    "entity_type = \"FirewallRule\"\n",
    "\n",
    "# Requested fields\n",
    "requested_fields = [\n",
    "    \"Customer\",\n",
    "    \"Name\",\n",
    "    \"PolicyType\",\n",
    "    \"NetworkPolicy.Action\",\n",
    "    \"NetworkPolicy.SourceZones\",\n",
    "    \"NetworkPolicy.DestinationZones\",\n",
    "    \"NetworkPolicy.SourceNetworks\",\n",
    "    \"NetworkPolicy.DestinationNetworks\",\n",
    "    \"NetworkPolicy.Services\",\n",
    "    \"UserPolicy.Action\",\n",
    "    \"UserPolicy.SourceZones\",\n",
    "    \"UserPolicy.DestinationZones\",\n",
    "    \"UserPolicy.SourceNetworks\",\n",
    "    \"UserPolicy.DestinationNetworks\",\n",
    "    \"UserPolicy.Services\",\n",
    "    \"UserPolicy.Identity\",\n",
    "    \"HTTPBasedPolicy.HostedAddress\",\n",
    "    \"HTTPBasedPolicy.HTTPS\",\n",
    "    \"HTTPBasedPolicy.ListenPort\",\n",
    "    \"HTTPBasedPolicy.Domains\",\n",
    "    \"HTTPBasedPolicy.AccessPaths\",\n",
    "]\n",
    "\n",
    "\n",
    "responses = firewall.read(entity_type)\n",
    "\n",
    "filtered_data = filter_responses(responses[\"data\"], requested_fields)\n",
    "\n",
    "customer_field = \"Customer\"\n",
    "# Add the key-value pair  customer_field: customer_name\n",
    "filtered_data = [{**item, customer_field: customer_name} for item in filtered_data]\n",
    "\n",
    "# Output the filtered data\n",
    "for item in filtered_data:\n",
    "    print(item)\n",
    "\n",
    "\n",
    "# Writed fields\n",
    "write_fields = [\n",
    "    \"Customer\",\n",
    "    \"Name\",\n",
    "    \"Action\",\n",
    "    \"PolicyType\",\n",
    "    \"SourceZones\",\n",
    "    \"SourceNetworks\",\n",
    "    \"Services\",\n",
    "    \"DestinationZones\",\n",
    "    \"DestinationNetworks\",\n",
    "    \"Identity\",\n",
    "    \"HostedAddress\",\n",
    "    \"HTTPS\",\n",
    "    \"ListenPort\",\n",
    "    \"Domains\",\n",
    "    \"AccessPaths\",\n",
    "]\n",
    "\n",
    "with open(f\"{exports_path}\\\\{customer_name}_{entity_type.upper()}.csv\", \"w\", encoding=\"UTF8\", newline=\"\") as csv_file:\n",
    "    writer = csv.DictWriter(csv_file, fieldnames=write_fields, extrasaction=\"ignore\", restval=\"...\")\n",
    "    writer.writeheader()\n",
    "    writer.writerows(filtered_data)"
   ]
  },
  {
   "cell_type": "markdown",
   "metadata": {},
   "source": [
    "#### NAT Rules"
   ]
  },
  {
   "cell_type": "code",
   "execution_count": null,
   "metadata": {},
   "outputs": [],
   "source": [
    "entity_type = \"NATRule\"\n",
    "\n",
    "# Requested fields\n",
    "requested_fields = [\n",
    "    \"Customer\",\n",
    "    \"Name\",\n",
    "    \"OriginalSourceNetworks\",\n",
    "    \"TranslatedSource\",\n",
    "    \"OriginalDestinationNetworks\",\n",
    "    \"TranslatedDestination\",\n",
    "    \"OriginalServices\",\n",
    "    \"TranslatedService\",\n",
    "    \"InboundInterfaces\",\n",
    "    \"OutboundInterfaces\",\n",
    "]\n",
    "\n",
    "\n",
    "responses = firewall.read(entity_type)\n",
    "\n",
    "filtered_data = [{key: item.get(key, None) for key in requested_fields} | {\"Customer\": customer_name} for item in responses[\"data\"]]\n",
    "# Output the filtered data\n",
    "for item in responses[\"data\"]:\n",
    "    print(item)\n",
    "\n",
    "\n",
    "# Writed fields\n",
    "write_fields = requested_fields\n",
    "\n",
    "with open(f\"{exports_path}\\\\{customer_name}_{entity_type.upper()}.csv\", \"w\", encoding=\"UTF8\", newline=\"\") as csv_file:\n",
    "    writer = csv.DictWriter(csv_file, fieldnames=write_fields, extrasaction=\"ignore\", restval=\"...\")\n",
    "    writer.writeheader()\n",
    "    writer.writerows(filtered_data)"
   ]
  }
 ],
 "metadata": {
  "kernelspec": {
   "display_name": "Python 3",
   "language": "python",
   "name": "python3"
  },
  "language_info": {
   "codemirror_mode": {
    "name": "ipython",
    "version": 3
   },
   "file_extension": ".py",
   "mimetype": "text/x-python",
   "name": "python",
   "nbconvert_exporter": "python",
   "pygments_lexer": "ipython3",
   "version": "3.12.6"
  },
  "orig_nbformat": 4
 },
 "nbformat": 4,
 "nbformat_minor": 2
}
