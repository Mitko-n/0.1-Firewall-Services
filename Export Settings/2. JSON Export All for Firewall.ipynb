{
 "cells": [
  {
   "cell_type": "code",
   "execution_count": null,
   "metadata": {},
   "outputs": [],
   "source": [
    "import os\n",
    "import csv\n",
    "import json\n",
    "\n",
    "from FirewallAPI import Firewall, EQ, NOT, LIKE\n"
   ]
  },
  {
   "cell_type": "code",
   "execution_count": 2,
   "metadata": {},
   "outputs": [],
   "source": [
    "customer_field = \"Customer\"\n",
    "customer_name = \"GW LAB\"\n",
    "\n",
    "exports_path = \"JSON\\\\\" + customer_name\n",
    "\n",
    "if not os.path.exists(exports_path):\n",
    "    os.makedirs(exports_path)\n",
    "\n",
    "firewall_ip = \"172.16.17.30\"\n",
    "username = \"apiadmin\"\n",
    "password = \"883C4BBDEF0B32DA7176B651133A52C1F215E15696EFD7D3506EB924A0EC0097\"\n",
    "\n",
    "firewall = Firewall(username, password=password, hostname=firewall_ip, port=4444, certificate_verify=False, password_encrypted=True)"
   ]
  },
  {
   "cell_type": "code",
   "execution_count": null,
   "metadata": {},
   "outputs": [],
   "source": [
    "with open(\"Imports.csv\", \"r\",) as file:\n",
    "        export_items = file.read().split('\\n')"
   ]
  },
  {
   "cell_type": "code",
   "execution_count": null,
   "metadata": {},
   "outputs": [],
   "source": [
    "for export_item in export_items:\n",
    "\n",
    "    print(export_item)\n",
    "\n",
    "    if export_item =='### END ###':\n",
    "        break\n",
    "\n",
    "    responses = firewall.read(export_item)\n",
    "\n",
    "    with open(f\"{exports_path}\\\\{customer_name}_{export_item}.json\", \"w\") as json_file:\n",
    "        json.dump(responses['data'], json_file, indent=4)\n"
   ]
  },
  {
   "cell_type": "raw",
   "metadata": {},
   "source": [
    "#### Extract IP Address from Interface and Aliases\n",
    "\n",
    "import json\n",
    "import ipaddress\n",
    "\n",
    "with open(f\"Json_Exports\\Alias.json\", \"r\") as json_file:\n",
    "    jsondata = json.load(json_file)\n",
    "\n",
    "alias = []\n",
    "\n",
    "for item in jsondata:\n",
    "    alias.append(item['IPAddress'])\n",
    "\n",
    "with open(f\"Json_Exports\\Interface.json\", \"r\") as json_file:\n",
    "    jsondata = json.load(json_file)\n",
    "\n",
    "addres = []\n",
    "\n",
    "for item in jsondata:\n",
    "    if item['IPv4Configuration'] == 'Enable':\n",
    "        addres.append(item['IPAddress'])\n",
    "\n",
    "alias = alias+addres\n",
    "\n",
    "# Remove Duplicates\n",
    "# result = []\n",
    "# [result.append(x) for x in alias if x not in result] \n",
    "\n",
    "alias = list(set(alias))\n",
    "alias.remove('')\n",
    "sorted(alias, key=ipaddress.IPv4Address)\n"
   ]
  }
 ],
 "metadata": {
  "kernelspec": {
   "display_name": "Python 3",
   "language": "python",
   "name": "python3"
  },
  "language_info": {
   "codemirror_mode": {
    "name": "ipython",
    "version": 3
   },
   "file_extension": ".py",
   "mimetype": "text/x-python",
   "name": "python",
   "nbconvert_exporter": "python",
   "pygments_lexer": "ipython3",
   "version": "3.12.6"
  },
  "orig_nbformat": 4
 },
 "nbformat": 4,
 "nbformat_minor": 2
}
