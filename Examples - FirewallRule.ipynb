{
 "cells": [
  {
   "cell_type": "code",
   "execution_count": null,
   "metadata": {},
   "outputs": [],
   "source": [
    "# Imports and initialization\n",
    "#\n",
    "from firewall_api import *\n",
    "\n",
    "firewall = Firewall(username=\"admin\", password=\"Sophos1985\", hostname=\"172.16.17.30\")"
   ]
  },
  {
   "cell_type": "code",
   "execution_count": null,
   "metadata": {},
   "outputs": [],
   "source": [
    "# Login Check\n",
    "#\n",
    "firewall.read(\"Login\")"
   ]
  },
  {
   "cell_type": "code",
   "execution_count": null,
   "metadata": {},
   "outputs": [],
   "source": [
    "# CREATE -> \"FirewallRule\"\n",
    "#\n",
    "entity_data = {\n",
    "    \"Name\": \"Demo Rule\",\n",
    "    \"Status\": \"Disable\",\n",
    "    \"Position\": \"Top\",\n",
    "    \"PolicyType\": \"Network\",\n",
    "    \"NetworkPolicy\": {\n",
    "        \"Action\": \"Accept\",\n",
    "        \"SourceZones\": {\"Zone\": [\"LAN\"]},\n",
    "        \"DestinationZones\": {\"Zone\": [\"WAN\"]},\n",
    "    },\n",
    "}\n",
    "response = firewall.create(\"FirewallRule\", entity_data)\n",
    "print(response)"
   ]
  },
  {
   "cell_type": "code",
   "execution_count": null,
   "metadata": {},
   "outputs": [],
   "source": [
    "# READ -> all \"FirewallRule\"\n",
    "#\n",
    "response = firewall.read(\"FirewallRule\")\n",
    "for rule in response[\"data\"]:\n",
    "    print(rule)"
   ]
  },
  {
   "cell_type": "code",
   "execution_count": null,
   "metadata": {},
   "outputs": [],
   "source": [
    "# UPDATE -> (add) \"SourceNetworks\" to  \"FirewallRule\" with name \"Demo Rule\"\n",
    "#\n",
    "updated_data = {\n",
    "    \"Status\": \"Enable\",\n",
    "    \"NetworkPolicy\": {\n",
    "        \"Action\": \"Accept\",\n",
    "        \"SourceNetworks\": {\"Network\": [\"192.168.30.0/24\", \"192.168.10.0/24\"]},\n",
    "    },\n",
    "}\n",
    "response = firewall.update(\"FirewallRule\", updated_data, entity_name=\"Demo Rule\")\n",
    "print(response)"
   ]
  },
  {
   "cell_type": "code",
   "execution_count": null,
   "metadata": {},
   "outputs": [],
   "source": [
    "# UPDATE -> Disable \"FirewallRule\" with name \"Demo Rule\"\n",
    "#\n",
    "updated_data = {\n",
    "    \"Status\": \"Disable\",\n",
    "}\n",
    "response = firewall.update(\"FirewallRule\", updated_data, entity_name=\"Demo Rule\")\n",
    "print(response)"
   ]
  },
  {
   "cell_type": "code",
   "execution_count": null,
   "metadata": {},
   "outputs": [],
   "source": [
    "# UPDATE -> Enable \"LogTraffic\" for \"FirewallRule\" with name \"Demo Rule\" (name in the update_data)\n",
    "#\n",
    "updated_data = {\n",
    "    \"Name\": \"Demo Rule\",\n",
    "    \"Status\": \"Enable\",\n",
    "    \"NetworkPolicy\": {\n",
    "        \"LogTraffic\": \"Enable\",\n",
    "    },\n",
    "}\n",
    "response = firewall.update(\"FirewallRule\", updated_data)\n",
    "print(response)"
   ]
  },
  {
   "cell_type": "code",
   "execution_count": null,
   "metadata": {},
   "outputs": [],
   "source": [
    "# DELETE -> \"FirewallRule\" with name \"Demo Rule\"\n",
    "#\n",
    "response = firewall.delete(\"FirewallRule\", filter_value=\"Demo Rule\")\n",
    "print(response)"
   ]
  },
  {
   "cell_type": "markdown",
   "metadata": {},
   "source": [
    "#### IPHost  Examples"
   ]
  },
  {
   "cell_type": "code",
   "execution_count": null,
   "metadata": {},
   "outputs": [],
   "source": [
    "response = firewall.read(\"IPHost\")\n",
    "for index, item in enumerate(response[\"data\"], start=1):\n",
    "    print(f\"{index:003} - {item}\")"
   ]
  },
  {
   "cell_type": "code",
   "execution_count": null,
   "metadata": {},
   "outputs": [],
   "source": [
    "response = firewall.read(\"IPHost\", \"172.16.17.2\", LIKE, \"IPAddress\")\n",
    "for index, item in enumerate(response[\"data\"], start=1):\n",
    "    print(f\"{index:003} - {item}\")"
   ]
  },
  {
   "cell_type": "code",
   "execution_count": null,
   "metadata": {},
   "outputs": [],
   "source": [
    "response = firewall.delete(\"IPHost\", \"172.16.17.22\", LIKE, \"IPAddress\")\n",
    "print(response)"
   ]
  }
 ],
 "metadata": {
  "kernelspec": {
   "display_name": "Python 3",
   "language": "python",
   "name": "python3"
  },
  "language_info": {
   "codemirror_mode": {
    "name": "ipython",
    "version": 3
   },
   "file_extension": ".py",
   "mimetype": "text/x-python",
   "name": "python",
   "nbconvert_exporter": "python",
   "pygments_lexer": "ipython3",
   "version": "3.12.6"
  }
 },
 "nbformat": 4,
 "nbformat_minor": 2
}
